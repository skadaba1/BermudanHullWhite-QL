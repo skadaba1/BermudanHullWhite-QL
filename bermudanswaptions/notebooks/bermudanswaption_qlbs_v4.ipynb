{
 "cells": [
  {
   "cell_type": "code",
   "execution_count": 54,
   "metadata": {
    "id": "rWOUT7PhfoiH"
   },
   "outputs": [],
   "source": [
    "# import the used libraries\n",
    "import numpy as np\n",
    "import matplotlib.pyplot as plt\n",
    "import math\n",
    "import pandas as pd\n",
    "import scipy\n",
    "from scipy.optimize import minimize\n",
    "\n",
    "import bspline\n",
    "import bspline.splinelab as splinelab\n",
    "import time\n",
    "import pandas as pd\n",
    "import warnings\n",
    "import cvxpy as cp\n",
    "import QuantLib as ql\n",
    "from tqdm import tqdm\n",
    "warnings.filterwarnings('ignore')"
   ]
  },
  {
   "cell_type": "markdown",
   "metadata": {
    "id": "SIcDwP8UfoiK"
   },
   "source": [
    "# Term Structure + Utils #"
   ]
  },
  {
   "cell_type": "code",
   "execution_count": 55,
   "metadata": {
    "id": "6voTEU8JhVqJ"
   },
   "outputs": [],
   "source": [
    "\"\"\" Generate calibration_report after HW fitting \"\"\"\n",
    "def calibration_report(swaptions, vols_data):\n",
    "    \n",
    "    columns = [\"Model Price\", \"Market Price\", \"Implied Vol\", \"Market Vol\", \"Rel Er\\\n",
    "    ror Price\", \"Rel Error Vols\", \"Expiry\", \"Maturity\"]\n",
    "    \n",
    "    report_data = []\n",
    "    cum_err = 0.0\n",
    "    cum_err2 = 0.0\n",
    "    \n",
    "    for i, s in enumerate(swaptions):\n",
    "        model_price = s.modelValue()\n",
    "        market_vol = vols_data[i]['vol']\n",
    "        black_price = s.blackPrice(market_vol)\n",
    "        rel_error = model_price/black_price - 1.0\n",
    "        implied_vol = s.impliedVolatility(model_price,\n",
    "        1e-1, 50, 0, 1.00)\n",
    "     \n",
    "        rel_error2 = implied_vol/market_vol-1.0\n",
    "        cum_err += rel_error*rel_error\n",
    "        cum_err2 += rel_error2*rel_error2\n",
    "        report_data.append((model_price, black_price, implied_vol, market_vol, rel_error, rel_error2, vols_data[i]['expiry'], vols_data[i]['maturity']))\n",
    "        \n",
    "    #print(\"Cumulative Error Price: %7.5f\" % math.sqrt(cum_err))\n",
    "    #print(\"Cumulative Error Vols : %7.5f\" % math.sqrt(cum_err2))\n",
    "    \n",
    "    return pd.DataFrame(report_data,columns= columns, index=['']*len(report_data))\n",
    "\n",
    "\"\"\" Term Structure handler, intialized via calibration against swaptions and \n",
    "              connstruction from liquid instruments\"\"\"\n",
    "## Term Structure Model ##\n",
    "class TS:\n",
    "    def __init__(self, calibration_path, vols_path, payment_periods, tstart, num_paths, notional):\n",
    "        self.discountBoundPaths = None\n",
    "        self.num_paths = num_paths\n",
    "        self.term_structure = self.build_curve(calibration_path, tstart);\n",
    "        self.calibrated_model, gauss_generator = self.calibrate(vols_path, notional, payment_periods)\n",
    "        _, self.short_rate_paths = self.generate_paths(num_paths, gauss_generator)\n",
    "        #plt.plot(self.short_rate_paths.T)\n",
    "        \n",
    "    def generate_paths(self, num_paths, seq):\n",
    "        timestep = 5400\n",
    "        arr = np.zeros((num_paths, timestep+1))\n",
    "        for i in range(num_paths):\n",
    "            sample_path = seq.next()\n",
    "            path = sample_path.value()\n",
    "            time = [path.time(j) for j in range(len(path))]\n",
    "            value = [path[j] for j in range(len(path))]\n",
    "            arr[i, :] = np.array(value)\n",
    "        return np.array(time), arr   \n",
    "    \n",
    "    def build_curve(self, calibration_path, tstart):\n",
    "        df = pd.read_csv(calibration_path)\n",
    "        data = []\n",
    "        for i in range(len(df)):\n",
    "            dt = dict(df.loc[i])\n",
    "            dt['Date'] = '2023-06-30 00:00:00'\n",
    "            data.append(dt)\n",
    "\n",
    "        calendar = ql.UnitedStates(ql.UnitedStates.GovernmentBond)\n",
    "        zeros = []\n",
    "        deposits = ['1M', '3M', '6M', '12M']\n",
    "        swaps = ['2Y', '3Y', '5Y', '7Y', '10Y', '15Y', '20Y', '30Y']\n",
    "        for row in data[tstart:tstart+1]:\n",
    "          \n",
    "            # Build Curve for the date\n",
    "            curve_date = ql.Date(row['Date'][:10], '%Y-%m-%d')\n",
    "            ql.Settings.instance().evaluationDate = curve_date\n",
    "            spot_date = calendar.advance(curve_date, 0, ql.Days) # beginning of eval - 2 days forward\n",
    "            helpers = ql.RateHelperVector()\n",
    "            for tenor in deposits:\n",
    "                index = ql.USDLibor(ql.Period(tenor))\n",
    "                helpers.append(\n",
    "                    ql.DepositRateHelper(row[tenor] / 100, index)\n",
    "                )\n",
    "            for tenor in swaps:\n",
    "                swap_index = ql.UsdLiborSwapIsdaFixAm(ql.Period(tenor))\n",
    "                helpers.append(\n",
    "                    ql.SwapRateHelper(row[tenor] / 100, swap_index)\n",
    "                )\n",
    "            curve = ql.PiecewiseCubicZero(curve_date, helpers, ql.Actual360())\n",
    "        curve.enableExtrapolation()\n",
    "        term_structure = ql.YieldTermStructureHandle(curve)\n",
    "        return term_structure\n",
    "\n",
    "    def calibrate(self, vols_path, notional, payment_periods):\n",
    "      \n",
    "        timestep = 5400\n",
    "        model = ql.HullWhite(self.term_structure);\n",
    "        engine = ql.JamshidianSwaptionEngine(model)\n",
    "\n",
    "        index = ql.Euribor6M(self.term_structure)\n",
    "        fixedLegTenor = ql.Period(payment_periods, ql.Months) # originally 1Y\n",
    "        fixedLegDayCounter = ql.Actual360()\n",
    "        floatingLegDayCounter = ql.Actual360()\n",
    "\n",
    "        ## Grab volatilities ##\n",
    "        df  = pd.read_csv(vols_path)\n",
    "        date1 = df.loc[tstart] # Index important here\n",
    "        volcub = np.reshape(date1[1:].values, (7,2))\n",
    "        tenor_labels = [_ for _ in [5, 10]]\n",
    "        expiry_labels = [_ for _ in [1/12, 3/12, 6/12, 1, 2, 5, 10]]\n",
    "        self.swaption_vols = pd.DataFrame(volcub, index=expiry_labels, columns=tenor_labels)\n",
    "        swaptions = []\n",
    "        ql.Settings.instance().evaluationDate = ql.Date(30, 6, 2023)\n",
    "        vols_data = []\n",
    "   \n",
    "        cnt = 0\n",
    "        for maturity in self.swaption_vols.index:\n",
    "            for tenor in self.swaption_vols.columns:\n",
    "                vol = self.swaption_vols.at[maturity, tenor] / 100\n",
    "                if(vol != 0):\n",
    "                        vols_data.append({'vol':vol, 'expiry':maturity, 'maturity':tenor})\n",
    "                        volatility = ql.QuoteHandle(ql.SimpleQuote(vol))\n",
    "                        helper = ql.SwaptionHelper(\n",
    "                            ql.Period(int(maturity*12), ql.Months),\n",
    "                            ql.Period(int(tenor), ql.Years),\n",
    "                            volatility,\n",
    "                            index,\n",
    "                            fixedLegTenor,\n",
    "                            fixedLegDayCounter,\n",
    "                            floatingLegDayCounter,\n",
    "                            self.term_structure,\n",
    "                            ql.BlackCalibrationHelper.RelativePriceError,\n",
    "                            ql.nullDouble(),\n",
    "                            notional, # nominal\n",
    "                            ql.ShiftedLognormal, # ShiftedLogn\n",
    "                            0.00 #shift to make rates non-negative\n",
    "                        )\n",
    "                        helper.setPricingEngine(engine)\n",
    "                        swaptions.append(helper)\n",
    "                        glob[(maturity, tenor)] = cnt;\n",
    "                        cnt += 1;\n",
    "                    \n",
    "                else:\n",
    "                    raise ValueError(\"0 vol. provied!\")\n",
    "    \n",
    "\n",
    "        optimization_method = ql.LevenbergMarquardt(1.0e-8,1.0e-8,1.0e-8)\n",
    "        end_criteria = ql.EndCriteria(500000, 1000, 1e-6, 1e-8, 1e-8)\n",
    "        model.calibrate(swaptions, optimization_method, end_criteria)\n",
    "        \n",
    "        self.params = model.params()\n",
    "        \n",
    "        df = calibration_report(swaptions, vols_data)\n",
    "        #display(df)\n",
    "        \n",
    "        sigma = self.params[1]\n",
    "        a = self.params[0]\n",
    "        length = 15 # in years\n",
    "        day_count = ql.Thirty360(ql.Thirty360.BondBasis)\n",
    "        todays_date =  ql.Date(30, 6, 2023)\n",
    "\n",
    "        ql.Settings.instance().evaluationDate = todays_date\n",
    "\n",
    "        hw_process = ql.HullWhiteProcess(self.term_structure, a, sigma)\n",
    "        \n",
    "        rng = ql.GaussianLowDiscrepancySequenceGenerator(ql.UniformLowDiscrepancySequenceGenerator(timestep))\n",
    "        seq = ql.GaussianSobolPathGenerator(hw_process, length, timestep, rng, False)\n",
    "\n",
    "        #rng = ql.GaussianRandomSequenceGenerator(ql.UniformRandomSequenceGenerator(timestep, ql.UniformRandomGenerator()))\n",
    "        #seq = ql.GaussianPathGenerator(hw_process, length, timestep, rng, False)\n",
    "        \n",
    "        self.swaptions = swaptions;\n",
    "            \n",
    "        return model, seq\n",
    "    \n",
    "    def ZCBCurve(self, t, k=None, sched=None):\n",
    "        \"\"\" P(t, T) for all t, T \"\"\"\n",
    "        if(sched is None):\n",
    "            raise ValueError(\"Payment schedule not provided!\")\n",
    "        sched = sched/360\n",
    "        def discountBond(T, k):\n",
    "            r = self.short_rate_paths[k,int(t*360)]\n",
    "            return self.calibrated_model.discountBond(t, T, r)\n",
    "        \n",
    "        if(k is not None):\n",
    "            path = self.short_rate_paths[k, :];\n",
    "            PTt = [self.calibrated_model.discountBond(t, i+t, path[int(t*360)]) for i in sched] #path[int(t*12)]\n",
    "            return PTt;\n",
    "\n",
    "        ts = sched + t\n",
    "        ks = np.arange(self.num_paths)\n",
    "        T, K = np.meshgrid(ts, ks)\n",
    "        PTts = np.fromiter(map(discountBond, T.ravel(), K.ravel()), T.dtype).reshape(T.shape)\n",
    "        self.discountBondPaths = PTts\n",
    "        num_traj, traj_length = PTts.shape\n",
    "        PTtsAvg = np.mean(PTts, axis=0)\n",
    "        \n",
    "        return PTtsAvg\n",
    "    \n",
    "# functions to compute optimal hedges\n",
    "def function_A_vec(t, delta_S_hat, data_mat, reg_param):\n",
    "    X_mat = data_mat[t, :, :]\n",
    "    num_basis_funcs = X_mat.shape[1]\n",
    "\n",
    "    this_dS = delta_S_hat.loc[:, t]\n",
    "    hat_dS2 = np.array((this_dS ** 2)).reshape(-1, 1)\n",
    "    A_mat = np.dot(X_mat.T, X_mat * hat_dS2) + reg_param * np.eye(num_basis_funcs)\n",
    "\n",
    "    return A_mat\n",
    "\n",
    "# Computes optimal hedges along with function_A_vec\n",
    "def function_B_vec(t, Pi_hat, delta_S_hat, S, data_mat, gamma, risk_lambda):\n",
    "    tmp = Pi_hat.loc[:,t+1].values * delta_S_hat.loc[:, t].values\n",
    "    X_mat = data_mat[t, :, :]  # matrix of dimension N_MC x num_basis\n",
    "    B_vec = np.dot(X_mat.T, tmp)\n",
    "\n",
    "    return B_vec\n",
    "\n",
    "# Computes optimal Q-table via backward solve\n",
    "def function_C_vec(t, data_mat, reg_param):\n",
    "    X_mat = data_mat[t, :, :]\n",
    "    num_basis_funcs = X_mat.shape[1]\n",
    "    C_mat = np.dot(X_mat.T, X_mat) + reg_param * np.eye(num_basis_funcs)\n",
    "    return C_mat\n",
    "\n",
    "# Computes optimal Q-table via backward solve\n",
    "def function_D_vec(t, Q, R, data_mat, gamma):\n",
    "    X_mat = data_mat[t, :, :]\n",
    "    D_vec = np.dot(X_mat.T, R.loc[:,t] + gamma * Q.loc[:, t+1])\n",
    "\n",
    "    return D_vec\n",
    "\n",
    "# Computes terminal payoff of swaption as positive part of swaption payoff (redundant)\n",
    "def terminal_payoff(K, x): #so\n",
    "    # ST   final stock price\n",
    "    # K    strike - not used\n",
    "    payoff = max(x,0)\n",
    "    return payoff"
   ]
  },
  {
   "cell_type": "markdown",
   "metadata": {},
   "source": [
    "# Vanilla Swap #"
   ]
  },
  {
   "cell_type": "code",
   "execution_count": 56,
   "metadata": {},
   "outputs": [],
   "source": [
    "\"\"\"Handler for underlying swap\"\"\"\n",
    "class swap:\n",
    "    def __init__(self, forward_time, maturity, fixed_sched, floating_sched, fixed_rate, tau_n, notional, tsobject, tstart, N_MC=100):\n",
    "\n",
    "        self.forward_time = forward_time;\n",
    "        self.maturity = maturity;\n",
    "        self.fixed_sched = fixed_sched;\n",
    "        self.floating_sched = floating_sched;\n",
    "        self.fixed_rate = fixed_rate;\n",
    "        self.tau_n = tau_n;\n",
    "        self.notional = notional\n",
    "        self.rates = np.zeros((N_MC, 24))\n",
    "        \n",
    "        num_paths = N_MC\n",
    "        #tstart = 0\n",
    "        self.tsh = tsobject\n",
    "        \n",
    "        self.term_structure = self.advance_dynamics(0)\n",
    "        if(fixed_rate is None):\n",
    "            A = sum([self.term_structure[i] for i in range(len(self.term_structure)-1)])\n",
    "            B = sum([self.term_structure[i+1] for i in range(len(self.term_structure)-1)])\n",
    "            self.fixed_rate = (A-B)/(self.tau_n*B)\n",
    "        else:\n",
    "            self.fixed_rate = fixed_rate\n",
    "        #print(\"Value at zero = \", self.value_at_t(0))\n",
    "        #plt.figure(1)\n",
    "        #plt.plot(tau, self.term_structure)\n",
    "        #print(\"params = \", term.par)\n",
    "\n",
    "    def advance_dynamics(self, t, k=None):\n",
    "        sched = self.fixed_sched + (self.forward_time - t)*360\n",
    "        p = self.tsh.ZCBCurve(t, k, sched);\n",
    "        return p\n",
    "\n",
    "    def value_at_t(self, t, k=None):\n",
    "\n",
    "        # calibrate to current time t #\n",
    "        term_structure = self.advance_dynamics(t, k)\n",
    "        v_swap = 0;\n",
    "        annuity = sum(term_structure)*self.tau_n \n",
    "        for i in range(0, len(term_structure)-1):\n",
    "            v_swap += (term_structure[i] - term_structure[i+1] - self.tau_n*self.fixed_rate*term_structure[i+1])\n",
    "        if(k is not None):\n",
    "            indx = int((23*t)/self.forward_time)\n",
    "            self.rates[k, indx] = ((v_swap)/annuity + self.fixed_rate)\n",
    "        return v_swap*self.notional # (swap value, swap rate)\n",
    "    \n",
    "    def payoff(self):\n",
    "        return max(self.value_at_t(self.forward_time), 0)\n"
   ]
  },
  {
   "cell_type": "markdown",
   "metadata": {},
   "source": [
    "# European Swaption"
   ]
  },
  {
   "cell_type": "code",
   "execution_count": 57,
   "metadata": {
    "id": "33nCJjWyiVje"
   },
   "outputs": [],
   "source": [
    "''' Handler for european underlying bermudan exerise swaptions '''\n",
    "class european:\n",
    "    def __init__(self,\n",
    "                 file_path,\n",
    "                 forward_time,\n",
    "                 maturity,\n",
    "                 notional,\n",
    "                 tsobject,\n",
    "                 fixed_rate = None,\n",
    "                 payment_periods = 6,\n",
    "                 tau_n = 1/2,\n",
    "                 N_MC = 1000,\n",
    "                 tstart = 0, \n",
    "                 verbose=False,\n",
    "                 r = 0.03,\n",
    "                 K = 0,\n",
    "                 risk_lambda = 0.001):\n",
    "\n",
    "        idx_plot = np.arange(0, N_MC, 500)\n",
    "        trajectories, rates, s1 = self.run_sim(forward_time, maturity, fixed_rate, N_MC, notional, tsobject, tau_n, payment_periods, tstart)\n",
    "        \n",
    "        if(verbose):\n",
    "            plt.figure(1)\n",
    "            plt.title(\"Underlying Swap Value vs Timestep\")\n",
    "            plt.xlabel(\"Timestep\")\n",
    "            plt.ylabel(\"Swap Value\")\n",
    "            plt.plot(trajectories[idx_plot].T)\n",
    "        \n",
    "        risk_lambda = 0.001 # risk aversion 0.001\n",
    "        K = 0         # option stike\n",
    "        r = 0.03 # risk-free-rate\n",
    "        T =  24 - 1\n",
    "        # Note that we set coef=0 below in function function_B_vec. This correspond to a pure risk-based hedging\n",
    "        \n",
    "        '''----------------------------------------------------------------------------------------------------------------------'''\n",
    "        ## Get swaption index ##\n",
    "        tenor_labels = [_ for _ in [2, 5, 10]]\n",
    "        expiry_labels = [_ for _ in [1/12, 3/12, 6/12, 1, 2, 5, 10]]\n",
    "        key = (forward_time, maturity)\n",
    "        if(key not in glob.keys()):\n",
    "            key = (1/12, 5)\n",
    "        ind = glob[key]\n",
    "        ##\n",
    "\n",
    "        ## Validate monte carlo estimate with analytical\n",
    "        muv  = np.maximum(np.array(trajectories)[:, -1], 0)\n",
    "\n",
    "        dF = np.exp(-np.sum(np.array(s1.tsh.short_rate_paths[:, 0:int(forward_time*360)]), axis=1)*1/360)\n",
    "        mcest = np.average(np.multiply(muv, dF))*N_MC\n",
    "        trt = s1.tsh.swaptions[ind].modelValue()\n",
    "        '''----------------------------------------------------------------------------------------------------------------------'''\n",
    "\n",
    "        S = np.array(trajectories\n",
    "        )\n",
    "        delta_t = tau_n # same as tau_n\n",
    "        gamma = np.exp(- r * delta_t)  # discount factor\n",
    "        delta_S = pd.DataFrame(S[:,1:int(T)+1]- np.exp(r * delta_t) * S[:,0:int(T) + 1-1])\n",
    "        delta_S_hat = delta_S.apply(lambda x: x - np.mean(x), axis=0)\n",
    "        S = pd.DataFrame(S)\n",
    "        \n",
    "        X = S\n",
    "        X_min = np.min(np.min(X))\n",
    "        X_max = np.max(np.max(X))\n",
    "\n",
    "\n",
    "        p = 4              # order of spline (as-is; 3 = cubic, 4: B-spline?)\n",
    "        ncolloc = 12\n",
    "\n",
    "        tau = np.linspace(X_min,X_max,ncolloc)  \n",
    "        k = splinelab.aptknt(tau, p)\n",
    "\n",
    "        basis = bspline.Bspline(k, p)\n",
    "\n",
    "        num_t_steps = int(T)+1\n",
    "        num_basis =  ncolloc # len(k) #\n",
    "\n",
    "        data_mat_t = np.zeros((num_t_steps, N_MC,num_basis ))\n",
    "\n",
    "        t_0 = time.time()\n",
    "        # fill it\n",
    "        for i in np.arange(num_t_steps):\n",
    "            x = X.values[:,i]\n",
    "            data_mat_t[i,:,:] = np.array([ basis(el) for el in x ])\n",
    "\n",
    "        t_end = time.time()\n",
    "\n",
    "        '''----------------------------------------------------------------------------------------------------------------------'''\n",
    "\n",
    "        starttime = time.time()\n",
    "        # portfolio value\n",
    "        Pi = pd.DataFrame([], index=range(1, N_MC+1), columns=range(int(T)+1))\n",
    "        Pi[Pi.columns[-1]] = S[S.columns[-1]].apply(lambda x: terminal_payoff(K, x)).values\n",
    "        Pi = Pi.replace(np.nan, 0)\n",
    "        Pi_hat = pd.DataFrame([], index=range(1, N_MC+1), columns=range(int(T)+1))\n",
    "        Pi_hat[Pi_hat.columns[-1]] = Pi[Pi.columns[-1]] - np.mean(Pi.iloc[:,-1])\n",
    "\n",
    "        Pi_hat = Pi_hat.replace(np.nan, 0)\n",
    "\n",
    "        # optimal hedge\n",
    "        a = pd.DataFrame([], index=range(1, N_MC+1), columns=range(int(T)+1))\n",
    "        a = a.replace(np.nan, 0)\n",
    "        a.iloc[:,-1] = 0\n",
    "\n",
    "        reg_param = 1e-3 # free parameter\n",
    "        prev = np.zeros((N_MC, ))\n",
    "        lmbda = 0.1\n",
    "\n",
    "        for t in range(int(T)-1, -1, -1):\n",
    "\n",
    "\n",
    "            A_mat = function_A_vec(t, delta_S_hat, data_mat_t, reg_param) # OG\n",
    "            B_vec = function_B_vec(t, Pi_hat, delta_S_hat, S, data_mat_t, gamma, risk_lambda) # OG\n",
    "            phi, _ = scipy.sparse.linalg.cg(A_mat, B_vec) #np.dot(np.linalg.inv(A_mat), B_vec) # OG\n",
    "            tentative =  np.dot(data_mat_t[t,:,:],phi)\n",
    "            #if(np.linalg.norm(tentative, np.inf) > 0.01):\n",
    "            #    tentative = a[a.columns[t+1]]\n",
    "            a[a.columns[t]] = tentative # OG\n",
    "            Pi[Pi.columns[t]] = gamma * (Pi.loc[:,t+1].values - a.loc[:,t].values * delta_S.loc[:,t].values) # OG\n",
    "            Pi_hat[Pi_hat.columns[t]] = Pi.loc[:,t].values - np.mean(Pi.loc[:,t]) # 0G\n",
    "\n",
    "        a = a.astype('float')\n",
    "        Pi = Pi.astype('float')\n",
    "        Pi_hat = Pi_hat.astype('float')\n",
    "\n",
    "        endtime = time.time()\n",
    "\n",
    "        '''----------------------------------------------------------------------------------------------------------------------'''\n",
    "\n",
    "        #Compute rewards for all paths\n",
    "        starttime = time.time()\n",
    "        # reward function\n",
    "        R = pd.DataFrame([], index=range(1, N_MC+1), columns=range(int(T)+1))\n",
    "        normalize = np.mean(Pi.iloc[:, -1].values) if np.mean(Pi.iloc[:, -1].values) != 0 else 1\n",
    "        R[R.columns[-1]] = -risk_lambda * np.var(Pi.iloc[:,-1].values) /np.mean(Pi.iloc[:,-1].values)\n",
    "        for t in range(int(T)):\n",
    "            vals = Pi.loc[1:, t].replace(np.nan, 0)\n",
    "            #normalize = np.mean(vals.values) if np.mean(vals.values) != 0 else 1\n",
    "            R.iloc[:, t] = gamma * a.loc[1:,t].values * delta_S.loc[:,t].values - risk_lambda * np.var(vals.values) /np.mean(vals.values)\n",
    "\n",
    "        endtime = time.time()\n",
    "\n",
    "        '''----------------------------------------------------------------------------------------------------------------------'''\n",
    "        if(verbose):\n",
    "            plt.figure(2)\n",
    "            plt.plot(a.T.iloc[:,idx_plot])\n",
    "            plt.xlabel('Time Steps')\n",
    "            plt.title('Optimal Hedge')\n",
    "            plt.show()\n",
    "\n",
    "            plt.figure(3)\n",
    "            plt.plot(Pi.T.iloc[:,idx_plot])\n",
    "            plt.xlabel('Time Steps')\n",
    "            plt.title('Portfolio Value')\n",
    "            plt.show()\n",
    "        '''----------------------------------------------------------------------------------------------------------------------'''\n",
    "        \n",
    "        starttime = time.time()\n",
    "        # Q function\n",
    "        Q = pd.DataFrame([], index=range(1, N_MC+1), columns=range(int(T)+1))\n",
    "        Q[Q.columns[-1]] = - Pi[Pi.columns[-1]] - risk_lambda * np.var(Pi.iloc[:,-1]) /np.mean(Pi.iloc[:,-1])\n",
    "        reg_param = 1e-3\n",
    "\n",
    "        for t in range(int(T)-1, -1, -1):\n",
    "\n",
    "            C_mat = function_C_vec(t,data_mat_t,reg_param)\n",
    "            D_vec = function_D_vec(t, Q,R,data_mat_t,gamma)\n",
    "            omega = np.dot(np.linalg.inv(C_mat), D_vec)\n",
    "\n",
    "            Q[Q.columns[t]] = np.dot(data_mat_t[t,:,:], omega)\n",
    "\n",
    "        Q = Q.astype('float')\n",
    "\n",
    "        endtime = time.time()\n",
    "\n",
    "        '''----------------------------------------------------------------------------------------------------------------------'''\n",
    "        if(verbose):\n",
    "            plt.figure(4)\n",
    "            # plot 10 paths\n",
    "            plt.plot(Q.T.iloc[:, idx_plot])\n",
    "            plt.xlabel('Time Steps')\n",
    "            plt.title('Optimal Q-Function')\n",
    "            plt.show()\n",
    "        \n",
    "        \n",
    "        # QLBS option price\n",
    "        C_QLBS = - Q.copy()\n",
    "        qp = np.average(C_QLBS.iloc[:,0])\n",
    "        bp = s1.tsh.swaptions[ind].blackPrice(s1.tsh.swaption_vols.at[key[0], key[1]]/100) #\n",
    "        mp = s1.tsh.swaptions[ind].modelValue() #\n",
    "        rel_model = 100*(qp/mp - 1)\n",
    "        rel_black = 100*(qp/bp - 1)\n",
    "        rel_mb = 100*(mp/bp - 1)\n",
    "        rel_mc = 100*(mcest/trt - 1)\n",
    "        rel_not = 100*abs(qp-mp)/notional\n",
    "        if(verbose):\n",
    "            print('-------------------------------------------')\n",
    "            print('       QLBS Option Pricing (DP solution)      ')\n",
    "            print('-------------------------------------------\\n')\n",
    "            print('%-25s' % ('Notional:'), notional)\n",
    "            print('%-25s' % ('Expiry of option (yrs)'), forward_time)\n",
    "            print('%-25s' % ('Maturity of underlying (yrs):'), maturity)\n",
    "            print('Tenor (payment) structure  every %d ' % (payment_periods) + '(days)')\n",
    "            print('%-25s' % ('Risk-free rate: '), r)\n",
    "            print('%-25s' % ('Risk aversion parameter: '), risk_lambda)\n",
    "            print('%-25s' % ('Strike:'), K)\n",
    "            print('%-25s' % ('Fixed rate:'), s1.fixed_rate)\n",
    "            print('%-25s' % ('# Trajectories:'), N_MC)\n",
    "            print('%-26s %.4f' % ('\\nQLBS Put Price: ', qp))\n",
    "            print('%-26s %.4f' % ('Black Put Price: ', bp))\n",
    "            print('%-26s %.4f' % ('Model Put Price: ', mp)) \n",
    "            print('%-26s %.4f' % ('\\nRel. error (MC to analytical): ', rel_mc) + \" %\")\n",
    "            print('%-26s %.4f' % ('Rel. error (to black): ', rel_black) + \" %\")\n",
    "            print('%-26s %.4f' % ('Rel. error (to model): ', rel_model) + \" %\")\n",
    "            print('%-26s %.4f' % ('Rel. error (model to black): ', rel_mb) + \" %\")\n",
    "            print('%-26s %.4f' % ('Rel. error (to notional): ', rel_not) + \" %\")\n",
    "\n",
    "        self.s1 = s1;\n",
    "        self.trajectories = trajectories\n",
    "        self.payoff = s1.payoff()\n",
    "        self.price = qp;\n",
    "        self.err = rel_model if (abs(rel_model) < abs(rel_black)) else rel_black\n",
    "        self.err_not = rel_not\n",
    "        self.err_mc = rel_mc\n",
    "    \n",
    "    def run_sim(self, forward_time, maturity, fixed_rate, N_MC, notional, tsobject, tau_n, payment_periods, tstart):\n",
    "        fixed_sched = np.arange(0, maturity*360 + 2*payment_periods, payment_periods)\n",
    "        floating_sched = fixed_sched;\n",
    "        tau_n = tau_n\n",
    "        s1 = swap(forward_time, maturity, fixed_sched, floating_sched, fixed_rate, tau_n, notional, tsobject, tstart, N_MC)\n",
    "        rates = []\n",
    "        \n",
    "        xs = np.linspace(0, forward_time, 24)\n",
    "        ys = np.arange(0, N_MC)\n",
    "        X, Y = np.meshgrid(xs, ys)\n",
    "        \n",
    "        starttime = time.time()\n",
    "        trajectories = np.fromiter(map(s1.value_at_t, X.ravel(), Y.ravel()), X.dtype).reshape(X.shape)\n",
    "        print(\"Completed meshgrid computation in \" + str(time.time() - starttime) + \" seconds\")\n",
    "        \n",
    "        return trajectories, rates, s1"
   ]
  },
  {
   "cell_type": "code",
   "execution_count": 52,
   "metadata": {
    "colab": {
     "base_uri": "https://localhost:8080/"
    },
    "id": "PDhym6ndmeT1",
    "outputId": "a28ec388-a742-49d5-c136-404fa0a3fcc2"
   },
   "outputs": [
    {
     "name": "stdout",
     "output_type": "stream",
     "text": [
      "Time to build Term Structure objct = 33.32653093338013 seconds\n",
      "Completed meshgrid computation in 13.90924859046936 seconds\n"
     ]
    },
    {
     "data": {
      "image/png": "[encoded data removed]",
      "text/plain": [
       "<Figure size 640x480 with 1 Axes>"
      ]
     },
     "metadata": {},
     "output_type": "display_data"
    },
    {
     "data": {
      "image/png": "[encoded data removed]",
      "text/plain": [
       "<Figure size 640x480 with 1 Axes>"
      ]
     },
     "metadata": {},
     "output_type": "display_data"
    },
    {
     "data": {
      "image/png": "[encoded data removed]",
      "text/plain": [
       "<Figure size 640x480 with 1 Axes>"
      ]
     },
     "metadata": {},
     "output_type": "display_data"
    },
    {
     "data": {
      "image/png": "[encoded data removed]",
      "text/plain": [
       "<Figure size 640x480 with 1 Axes>"
      ]
     },
     "metadata": {},
     "output_type": "display_data"
    },
    {
     "name": "stdout",
     "output_type": "stream",
     "text": [
      "-------------------------------------------\n",
      "       QLBS Option Pricing (DP solution)      \n",
      "-------------------------------------------\n",
      "\n",
      "Notional:                 100000000.0\n",
      "Expiry of option (yrs)    0.08333333333333333\n",
      "Maturity of underlying (yrs): 10\n",
      "Tenor (payment) structure  every 90 (days)\n",
      "Risk-free rate:           0.03\n",
      "Risk aversion parameter:  0.001\n",
      "Strike:                   0\n",
      "Fixed rate:               0.029300241967419344\n",
      "# Trajectories:           8192\n",
      "\n",
      "QLBS Put Price:           787549.1625\n",
      "Black Put Price:           927715.6102\n",
      "Model Put Price:           940406.4806\n",
      "\n",
      "Rel. error (MC to analytical):  735566.0213 %\n",
      "Rel. error (to black):     -15.1088 %\n",
      "Rel. error (to model):     -16.2544 %\n",
      "Rel. error (model to black):  1.3680 %\n",
      "Rel. error (to notional):  0.1529 %\n",
      "\n",
      "Payoff of swaption 483.277\n"
     ]
    }
   ],
   "source": [
    "## Single sample run with European swaption #\n",
    "glob = dict()\n",
    "forward_time = 1/12\n",
    "maturity = 10\n",
    "notional = 1e8\n",
    "fixed_rate = None;\n",
    "payment_periods = 3\n",
    "payment_periods *= 30\n",
    "tau_n = payment_periods/360\n",
    "tstart = 0;\n",
    "N_MC = 8192;\n",
    "\n",
    "calibration_path = 'bloomberg_calibration.csv'\n",
    "vols_path = 'vols_liquid.csv'\n",
    "start = time.time()\n",
    "tsobject = TS(calibration_path, vols_path, payment_periods, tstart, N_MC, notional)\n",
    "print(\"Time to build Term Structure objct = \" + str(time.time() - start) + \" seconds\")\n",
    "\n",
    "bs = european(calibration_path, forward_time, maturity, notional, tsobject, fixed_rate, payment_periods, tau_n, N_MC,tstart, True)\n",
    "print(\"\\nPayoff of swaption %.3f\" % bs.payoff)"
   ]
  },
  {
   "cell_type": "markdown",
   "metadata": {},
   "source": [
    "# Bermudan Swaption"
   ]
  },
  {
   "cell_type": "code",
   "execution_count": 58,
   "metadata": {
    "id": "e41r1Gi4oNXW",
    "scrolled": true
   },
   "outputs": [],
   "source": [
    "\"\"\" Handler for bermudan swaption pricing, i.e. basket of europeans\"\"\"\n",
    "class bermudan():\n",
    "    def __init__(self, file_path, bermudan_forward_time, bermudan_maturity, notional, payment_periods, tstart, N_MC=100):\n",
    "        resets = np.arange(0, (bermudan_maturity)*360 + 2*payment_periods, payment_periods)\n",
    "        self.basket = [];\n",
    "        risk_free_discounts, swap_rates, payoffs, prices = self.populate_basket(resets, notional, payment_periods, bermudan_forward_time, bermudan_maturity, tstart, N_MC)\n",
    "        continuation_values = self.continuation_ls(risk_free_discounts, swap_rates, payoffs); #change to prices\n",
    "        self.price, self.black_error, self.notional_error = self.compute_price(resets, payoffs, continuation_values, prices, notional, bermudan_forward_time, bermudan_maturity, payment_periods, tstart, N_MC)\n",
    "        \n",
    "    # Constructs and values basket of europeans with varying forwads/maturities\n",
    "    def populate_basket(self, resets, notional, payment_periods, bermudan_forward_time, bermudan_maturity, tstart, N_MC):\n",
    "        value = 1;\n",
    "        risk_free_discounts = []\n",
    "        swap_rates = []\n",
    "        \n",
    "        tau_n = payment_periods/360; \n",
    "        fixed_rate = None;\n",
    "        calibration_path = 'bloomberg_calibration.csv'\n",
    "        vols_path = 'vols_liquid.csv'\n",
    "        starttime = time.time()\n",
    "        tsobject = TS(calibration_path, vols_path, payment_periods, tstart, N_MC, notional)\n",
    "        print(\"Time to build Term Structure objct = \" + str(time.time() - starttime) + \" seconds\")\n",
    "        for idx in tqdm(range(len(resets[:-1]))):\n",
    "            res = resets[:-1][idx]\n",
    "            time.sleep(0.1)\n",
    "            print(\"Populating basket with european swaption # %d\" % (idx+1))\n",
    "        \n",
    "            path_forward_time = bermudan_forward_time + res/360\n",
    "            path_maturity = bermudan_maturity - res/360\n",
    "            bs = european(file_path,\n",
    "                 path_forward_time,\n",
    "                 path_maturity,\n",
    "                 notional,\n",
    "                 tsobject,\n",
    "                 fixed_rate = None,\n",
    "                 payment_periods = payment_periods,\n",
    "                 tau_n = tau_n,\n",
    "                 N_MC = N_MC,\n",
    "                 tstart = tstart, \n",
    "                 verbose = False,\n",
    "                 r = 0.03,\n",
    "                 K = 0,\n",
    "                 risk_lambda = 0.001)\n",
    "            sched = np.array([path_forward_time*360, bermudan_forward_time*360 + resets[idx+1]])\n",
    "            factors = bs.s1.tsh.ZCBCurve(0, None, sched)\n",
    "            value = (bs.s1.tsh.discountBondPaths[:, 0] - \n",
    "                     bs.s1.tsh.discountBondPaths[:, 1])/(bs.s1.tsh.discountBondPaths[:, 1])\n",
    "            risk_free_discounts.append(value)\n",
    "\n",
    "            swap_rates.append(bs.s1.rates[:, -1])  \n",
    "            self.basket.append(bs)\n",
    " \n",
    "        # print(\"Risk-free discounts = \", risk_free_discounts)\n",
    "        # print(\"Finished populating european swaption basket!\")\n",
    "        swap_rates = np.vstack(swap_rates).T\n",
    "        print('\\n----------------------------------------------------------------')\n",
    "        print('       Finished accumulating basket of European swaptions!      ')\n",
    "        print('----------------------------------------------------------------\\n')\n",
    "        payoffs = np.vstack([np.maximum(bs.trajectories[:,-1], 0) for bs in self.basket]).T;\n",
    "        prices = [bs.price for bs in self.basket];\n",
    "        return risk_free_discounts, swap_rates, payoffs, prices\n",
    "    \n",
    "    # Computes continuation values using Longstaff-Schwartz regression\n",
    "    def continuation_ls(self, risk_free_discounts, swap_rates, payoffs):\n",
    "        dim = len(self.basket) - 1\n",
    "        cont = np.zeros_like(payoffs)\n",
    "        cont[:, -1] = np.squeeze(payoffs[:, -1])\n",
    "        for i in range(dim-1, -1, -1):\n",
    "            A = np.vstack([swap_rates[:, i], swap_rates[:, i]**2, np.ones((1, N_MC))]).T\n",
    "            b = risk_free_discounts[i]*cont[:, i+1]\n",
    "            theta = np.linalg.lstsq(A, b)[0]\n",
    "            cont[:, i] = np.squeeze(np.maximum(cont[:, i], A@theta))\n",
    "        return np.average(cont, axis=1)\n",
    "    \n",
    "    # Backward-solves for prices at all exercise times\n",
    "    def back_solve(self, prices, continuation_values, resets, bermudan_forward_time, payoffs):\n",
    "        prices_dp = prices.copy()\n",
    "        for i in np.arange(len(prices) - 2, -1, -1):\n",
    "            T0 = resets[i] + int(360*bermudan_forward_time)\n",
    "            discountToZero = np.average(np.exp(-np.sum(np.array(self.basket[i].s1.tsh.short_rate_paths[:, 0:T0]), axis=1)*1/360))\n",
    "            prices_dp[i] = max(prices_dp[i], continuation_values[i]);\n",
    "        return prices_dp[0]\n",
    "    \n",
    "    # Computes analytical price using QuantLib TreeSwaption Engine\n",
    "    def price_ql(self, tforward, maturity, notional, payment_periods, tstart, N_MC):\n",
    "        \n",
    "        calibration_path = 'bloomberg_calibration.csv'\n",
    "        vols_path = 'vols_liquid.csv'\n",
    "        tsh = TS(calibration_path, vols_path, payment_periods, tstart, N_MC, notional)\n",
    "\n",
    "        termStructure = tsh.term_structure\n",
    "        model = tsh.calibrated_model\n",
    "\n",
    "        calendar = ql.TARGET();\n",
    "        settlementDate = ql.Date(30, ql.June, 2023)\n",
    "\n",
    "        swapEngine = ql.DiscountingSwapEngine(termStructure) ## subs. needed\n",
    "\n",
    "        fixedLegFrequency = ql.Semiannual #Semi\n",
    "        fixedLegTenor = ql.Period(payment_periods, ql.Months)\n",
    "        fixedLegConvention = ql.Unadjusted\n",
    "\n",
    "        floatingLegConvention = ql.ModifiedFollowing\n",
    "        fixedLegDayCounter = ql.Thirty360(ql.Thirty360.European);\n",
    "        floatingLegFrequency = ql.Semiannual\n",
    "        floatingLegTenor = ql.Period(payment_periods, ql.Months)\n",
    "\n",
    "        payFixed = ql.VanillaSwap.Payer\n",
    "        fixingDays = 0;\n",
    "        index = ql.Euribor6M(termStructure) ## subs. needed\n",
    "        floatingLegDayCounter = index.dayCounter();\n",
    "\n",
    "\n",
    "        swapStart = calendar.advance(settlementDate, int(tforward*12), ql.Months, floatingLegConvention)\n",
    "        swapEnd = calendar.advance(swapStart, maturity, ql.Years, floatingLegConvention)\n",
    "\n",
    "        fixedSchedule=  ql.Schedule(swapStart, swapEnd, fixedLegTenor, calendar, fixedLegConvention, fixedLegConvention, \n",
    "                                    ql.DateGeneration.Forward, False);\n",
    "        floatingSchedule = ql.Schedule(swapStart, swapEnd, floatingLegTenor, calendar, floatingLegConvention, floatingLegConvention,\n",
    "                                      ql.DateGeneration.Forward, False)\n",
    "\n",
    "        dummy = ql.VanillaSwap(payFixed, 100.0, \n",
    "                           fixedSchedule, 0.0, fixedLegDayCounter, floatingSchedule, \n",
    "                           index, 0.0, floatingLegDayCounter)\n",
    "        dummy.setPricingEngine(swapEngine)\n",
    "        atmRate = dummy.fairRate()\n",
    "\n",
    "        atmSwap = ql.VanillaSwap(payFixed, notional, \n",
    "                                 fixedSchedule, atmRate, fixedLegDayCounter, \n",
    "                                 floatingSchedule, index, 0.0, \n",
    "                                 floatingLegDayCounter)\n",
    "        atmSwap.setPricingEngine(swapEngine)\n",
    "\n",
    "        \"\"\" --- \"\"\"\n",
    "\n",
    "        bermudanDates = [d for d in fixedSchedule][:-1]\n",
    "        exercise = ql.BermudanExercise(bermudanDates)\n",
    "\n",
    "        atmSwaption = ql.Swaption(atmSwap, exercise);\n",
    "        atmSwaption.setPricingEngine(ql.TreeSwaptionEngine(model, 50)) # subs. needed\n",
    "        price = atmSwaption.NPV()\n",
    "        return price\n",
    "    \n",
    "    # Summarizes run results #\n",
    "    def compute_price(self, resets, payoffs, continuation_values, prices, notional, bermudan_forward_time, bermudan_maturity, payment_periods, tstart, N_MC):\n",
    "        price = self.back_solve(prices, continuation_values, resets, bermudan_forward_time, payoffs)\n",
    "        actual = self.price_ql(bermudan_forward_time, bermudan_maturity, notional, payment_periods, tstart, N_MC)\n",
    "        black_error = 100 * ((price/actual) - 1)\n",
    "        notional_error = 100 * abs(price-actual)/notional\n",
    "        print('----------------------------------------------------------------')\n",
    "        print('*******************************************')\n",
    "        print('       QLBS Option Pricing (DP solution)      ')\n",
    "        print('*******************************************\\n')\n",
    "        print('%-25s' % ('Notional:'), notional)\n",
    "        print('%-25s' % ('Forward time of underlying (yrs)'), bermudan_forward_time)\n",
    "        print('%-25s' % ('Maturity of underlying (yrs):'), bermudan_maturity)\n",
    "        print('Tenor (payment) structure  every %d' %(payment_periods)  + ' (days)')\n",
    "        print('%-26s %.4f' % ('\\nQLBS Bermudan Put Price: ', price))\n",
    "        print('%-26s %.4f' % ('QuantLib Bermudan Put Price: ', actual))\n",
    "        print('%-26s %.4f' % ('Rel. error (to model): ', black_error) + \" %\")\n",
    "        print('%-26s %.4f' % ('Rel. error (to notional): ', notional_error) + \" %\")\n",
    "        print('----------------------------------------------------------------')\n",
    "        return price, black_error, notional_error \n",
    "\n",
    "\n"
   ]
  },
  {
   "cell_type": "code",
   "execution_count": 59,
   "metadata": {},
   "outputs": [
    {
     "name": "stdout",
     "output_type": "stream",
     "text": [
      "Time to build Term Structure objct = 32.18940615653992 seconds\n"
     ]
    },
    {
     "name": "stderr",
     "output_type": "stream",
     "text": [
      "\r",
      "  0%|                                                                                  | 0/11 [00:00<?, ?it/s]"
     ]
    },
    {
     "name": "stdout",
     "output_type": "stream",
     "text": [
      "Populating basket with european swaption # 1\n",
      "Completed meshgrid computation in 4.953742027282715 seconds\n"
     ]
    },
    {
     "name": "stderr",
     "output_type": "stream",
     "text": [
      "\r",
      "  9%|██████▋                                                                   | 1/11 [00:25<04:11, 25.14s/it]"
     ]
    },
    {
     "name": "stdout",
     "output_type": "stream",
     "text": [
      "Populating basket with european swaption # 2\n",
      "Completed meshgrid computation in 4.537675619125366 seconds\n"
     ]
    },
    {
     "name": "stderr",
     "output_type": "stream",
     "text": [
      "\r",
      " 18%|█████████████▍                                                            | 2/11 [00:49<03:44, 24.97s/it]"
     ]
    },
    {
     "name": "stdout",
     "output_type": "stream",
     "text": [
      "Populating basket with european swaption # 3\n",
      "Completed meshgrid computation in 4.31508469581604 seconds\n"
     ]
    },
    {
     "name": "stderr",
     "output_type": "stream",
     "text": [
      "\r",
      " 27%|████████████████████▏                                                     | 3/11 [01:14<03:17, 24.64s/it]"
     ]
    },
    {
     "name": "stdout",
     "output_type": "stream",
     "text": [
      "Populating basket with european swaption # 4\n",
      "Completed meshgrid computation in 3.929749011993408 seconds\n"
     ]
    },
    {
     "name": "stderr",
     "output_type": "stream",
     "text": [
      "\r",
      " 36%|██████████████████████████▉                                               | 4/11 [01:37<02:48, 24.12s/it]"
     ]
    },
    {
     "name": "stdout",
     "output_type": "stream",
     "text": [
      "Populating basket with european swaption # 5\n",
      "Completed meshgrid computation in 3.6304614543914795 seconds\n"
     ]
    },
    {
     "name": "stderr",
     "output_type": "stream",
     "text": [
      "\r",
      " 45%|█████████████████████████████████▋                                        | 5/11 [02:00<02:21, 23.66s/it]"
     ]
    },
    {
     "name": "stdout",
     "output_type": "stream",
     "text": [
      "Populating basket with european swaption # 6\n",
      "Completed meshgrid computation in 3.3697333335876465 seconds\n"
     ]
    },
    {
     "name": "stderr",
     "output_type": "stream",
     "text": [
      "\r",
      " 55%|████████████████████████████████████████▎                                 | 6/11 [02:23<01:56, 23.32s/it]"
     ]
    },
    {
     "name": "stdout",
     "output_type": "stream",
     "text": [
      "Populating basket with european swaption # 7\n",
      "Completed meshgrid computation in 3.0952229499816895 seconds\n"
     ]
    },
    {
     "name": "stderr",
     "output_type": "stream",
     "text": [
      "\r",
      " 64%|███████████████████████████████████████████████                           | 7/11 [02:46<01:32, 23.22s/it]"
     ]
    },
    {
     "name": "stdout",
     "output_type": "stream",
     "text": [
      "Populating basket with european swaption # 8\n",
      "Completed meshgrid computation in 2.952207565307617 seconds\n"
     ]
    },
    {
     "name": "stderr",
     "output_type": "stream",
     "text": [
      "\r",
      " 73%|█████████████████████████████████████████████████████▊                    | 8/11 [03:08<01:08, 22.89s/it]"
     ]
    },
    {
     "name": "stdout",
     "output_type": "stream",
     "text": [
      "Populating basket with european swaption # 9\n",
      "Completed meshgrid computation in 2.5522687435150146 seconds\n"
     ]
    },
    {
     "name": "stderr",
     "output_type": "stream",
     "text": [
      "\r",
      " 82%|████████████████████████████████████████████████████████████▌             | 9/11 [03:30<00:45, 22.55s/it]"
     ]
    },
    {
     "name": "stdout",
     "output_type": "stream",
     "text": [
      "Populating basket with european swaption # 10\n",
      "Completed meshgrid computation in 2.2673962116241455 seconds\n"
     ]
    },
    {
     "name": "stderr",
     "output_type": "stream",
     "text": [
      "\r",
      " 91%|██████████████████████████████████████████████████████████████████▎      | 10/11 [03:51<00:22, 22.21s/it]"
     ]
    },
    {
     "name": "stdout",
     "output_type": "stream",
     "text": [
      "Populating basket with european swaption # 11\n",
      "Completed meshgrid computation in 2.011859893798828 seconds\n"
     ]
    },
    {
     "name": "stderr",
     "output_type": "stream",
     "text": [
      "100%|█████████████████████████████████████████████████████████████████████████| 11/11 [04:12<00:00, 22.95s/it]\n"
     ]
    },
    {
     "name": "stdout",
     "output_type": "stream",
     "text": [
      "\n",
      "----------------------------------------------------------------\n",
      "       Finished accumulating basket of European swaptions!      \n",
      "----------------------------------------------------------------\n",
      "\n",
      "----------------------------------------------------------------\n",
      "*******************************************\n",
      "       QLBS Option Pricing (DP solution)      \n",
      "*******************************************\n",
      "\n",
      "Notional:                 100000000.0\n",
      "Forward time of underlying (yrs) 0.08333333333333333\n",
      "Maturity of underlying (yrs): 5\n",
      "Tenor (payment) structure  every 180 (days)\n",
      "\n",
      "QLBS Bermudan Put Price:  435503.1244\n",
      "QuantLib Bermudan Put Price:  397765.4948\n",
      "Rel. error (to model):     9.4874 %\n",
      "Rel. error (to notional):  0.0377 %\n",
      "----------------------------------------------------------------\n"
     ]
    }
   ],
   "source": [
    "glob = dict()\n",
    "file_path = 'bloomberg_calibration.csv'\n",
    "tforward = 1/12;\n",
    "maturity = 5;\n",
    "payment_periods = 6;\n",
    "payment_periods *= 30\n",
    "notional = 1e8\n",
    "tstart = 0;\n",
    "N_MC = 8192;\n",
    "bp1 = bermudan(file_path, tforward, maturity, notional, payment_periods, tstart, N_MC)"
   ]
  },
  {
   "cell_type": "markdown",
   "metadata": {},
   "source": [
    "# Exp. Run - European"
   ]
  },
  {
   "cell_type": "code",
   "execution_count": 30,
   "metadata": {},
   "outputs": [
    {
     "name": "stdout",
     "output_type": "stream",
     "text": [
      "Time to build Term Structure objct = 31.938373565673828 seconds\n",
      "Completed meshgrid computation in 7.787952184677124 seconds\n",
      "-------------------------------------------\n",
      "       QLBS Option Pricing (DP solution)      \n",
      "-------------------------------------------\n",
      "\n",
      "Notional:                 100000000.0\n",
      "Expiry of option (yrs)    0.08333333333333333\n",
      "Maturity of underlying (yrs): 5\n",
      "Tenor (payment) structure  every 90 (days)\n",
      "Risk-free rate:           0.03\n",
      "Risk aversion parameter:  0.001\n",
      "Strike:                   0\n",
      "Fixed rate:               0.031452110359768116\n",
      "# Trajectories:           8192\n",
      "\n",
      "QLBS Put Price:           474699.5876\n",
      "Black Put Price:           574219.5575\n",
      "Model Put Price:           546811.5114\n",
      "\n",
      "Rel. error (MC to analytical):  763223.5309 %\n",
      "Rel. error (to black):     -17.3313 %\n",
      "Rel. error (to model):     -13.1877 %\n",
      "Rel. error (model to black):  -4.7731 %\n",
      "Rel. error (to notional):  0.0721 %\n",
      "\n",
      "Payoff of swaption 134.321\n",
      "Completed meshgrid computation in 13.578376770019531 seconds\n",
      "-------------------------------------------\n",
      "       QLBS Option Pricing (DP solution)      \n",
      "-------------------------------------------\n",
      "\n",
      "Notional:                 100000000.0\n",
      "Expiry of option (yrs)    0.08333333333333333\n",
      "Maturity of underlying (yrs): 10\n",
      "Tenor (payment) structure  every 90 (days)\n",
      "Risk-free rate:           0.03\n",
      "Risk aversion parameter:  0.001\n",
      "Strike:                   0\n",
      "Fixed rate:               0.029300241967419344\n",
      "# Trajectories:           8192\n",
      "\n",
      "QLBS Put Price:           787549.1625\n",
      "Black Put Price:           927715.6102\n",
      "Model Put Price:           940406.4806\n",
      "\n",
      "Rel. error (MC to analytical):  735566.0213 %\n",
      "Rel. error (to black):     -15.1088 %\n",
      "Rel. error (to model):     -16.2544 %\n",
      "Rel. error (model to black):  1.3680 %\n",
      "Rel. error (to notional):  0.1529 %\n",
      "\n",
      "Payoff of swaption 483.277\n",
      "Completed meshgrid computation in 7.869825601577759 seconds\n",
      "-------------------------------------------\n",
      "       QLBS Option Pricing (DP solution)      \n",
      "-------------------------------------------\n",
      "\n",
      "Notional:                 100000000.0\n",
      "Expiry of option (yrs)    0.25\n",
      "Maturity of underlying (yrs): 5\n",
      "Tenor (payment) structure  every 90 (days)\n",
      "Risk-free rate:           0.03\n",
      "Risk aversion parameter:  0.001\n",
      "Strike:                   0\n",
      "Fixed rate:               0.03041883804156912\n",
      "# Trajectories:           8192\n",
      "\n",
      "QLBS Put Price:           804036.6067\n",
      "Black Put Price:           932202.6745\n",
      "Model Put Price:           924039.3241\n",
      "\n",
      "Rel. error (MC to analytical):  766088.1364 %\n",
      "Rel. error (to black):     -13.7487 %\n",
      "Rel. error (to model):     -12.9868 %\n",
      "Rel. error (model to black):  -0.8757 %\n",
      "Rel. error (to notional):  0.1200 %\n",
      "\n",
      "Payoff of swaption 2411.376\n",
      "Completed meshgrid computation in 13.335336208343506 seconds\n",
      "-------------------------------------------\n",
      "       QLBS Option Pricing (DP solution)      \n",
      "-------------------------------------------\n",
      "\n",
      "Notional:                 100000000.0\n",
      "Expiry of option (yrs)    0.25\n",
      "Maturity of underlying (yrs): 10\n",
      "Tenor (payment) structure  every 90 (days)\n",
      "Risk-free rate:           0.03\n",
      "Risk aversion parameter:  0.001\n",
      "Strike:                   0\n",
      "Fixed rate:               0.028768594172088668\n",
      "# Trajectories:           8192\n",
      "\n",
      "QLBS Put Price:           1332606.0015\n",
      "Black Put Price:           1573779.7787\n",
      "Model Put Price:           1589911.0000\n",
      "\n",
      "Rel. error (MC to analytical):  738039.1477 %\n",
      "Rel. error (to black):     -15.3245 %\n",
      "Rel. error (to model):     -16.1836 %\n",
      "Rel. error (model to black):  1.0250 %\n",
      "Rel. error (to notional):  0.2573 %\n",
      "\n",
      "Payoff of swaption 5282.787\n",
      "Completed meshgrid computation in 7.774009943008423 seconds\n",
      "-------------------------------------------\n",
      "       QLBS Option Pricing (DP solution)      \n",
      "-------------------------------------------\n",
      "\n",
      "Notional:                 100000000.0\n",
      "Expiry of option (yrs)    0.5\n",
      "Maturity of underlying (yrs): 5\n",
      "Tenor (payment) structure  every 90 (days)\n",
      "Risk-free rate:           0.03\n",
      "Risk aversion parameter:  0.001\n",
      "Strike:                   0\n",
      "Fixed rate:               0.028731916720283288\n",
      "# Trajectories:           8192\n",
      "\n",
      "QLBS Put Price:           1128928.9726\n",
      "Black Put Price:           1255714.8658\n",
      "Model Put Price:           1279810.3574\n",
      "\n",
      "Rel. error (MC to analytical):  777761.1722 %\n",
      "Rel. error (to black):     -10.0967 %\n",
      "Rel. error (to model):     -11.7894 %\n",
      "Rel. error (model to black):  1.9189 %\n",
      "Rel. error (to notional):  0.1509 %\n",
      "\n",
      "Payoff of swaption 7260.750\n",
      "Completed meshgrid computation in 13.625723123550415 seconds\n",
      "-------------------------------------------\n",
      "       QLBS Option Pricing (DP solution)      \n",
      "-------------------------------------------\n",
      "\n",
      "Notional:                 100000000.0\n",
      "Expiry of option (yrs)    0.5\n",
      "Maturity of underlying (yrs): 10\n",
      "Tenor (payment) structure  every 90 (days)\n",
      "Risk-free rate:           0.03\n",
      "Risk aversion parameter:  0.001\n",
      "Strike:                   0\n",
      "Fixed rate:               0.027901811617800577\n",
      "# Trajectories:           8192\n",
      "\n",
      "QLBS Put Price:           1871007.5907\n",
      "Black Put Price:           2182542.0779\n",
      "Model Put Price:           2204017.1222\n",
      "\n",
      "Rel. error (MC to analytical):  748277.5462 %\n",
      "Rel. error (to black):     -14.2739 %\n",
      "Rel. error (to model):     -15.1092 %\n",
      "Rel. error (model to black):  0.9839 %\n",
      "Rel. error (to notional):  0.3330 %\n",
      "\n",
      "Payoff of swaption 13728.189\n",
      "Completed meshgrid computation in 7.859202146530151 seconds\n",
      "-------------------------------------------\n",
      "       QLBS Option Pricing (DP solution)      \n",
      "-------------------------------------------\n",
      "\n",
      "Notional:                 100000000.0\n",
      "Expiry of option (yrs)    1\n",
      "Maturity of underlying (yrs): 5\n",
      "Tenor (payment) structure  every 90 (days)\n",
      "Risk-free rate:           0.03\n",
      "Risk aversion parameter:  0.001\n",
      "Strike:                   0\n",
      "Fixed rate:               0.025141767235936488\n",
      "# Trajectories:           8192\n",
      "\n",
      "QLBS Put Price:           1582874.5972\n",
      "Black Put Price:           1593771.4370\n",
      "Model Put Price:           1734984.9221\n",
      "\n",
      "Rel. error (MC to analytical):  788392.8948 %\n",
      "Rel. error (to black):     -0.6837 %\n",
      "Rel. error (to model):     -8.7672 %\n",
      "Rel. error (model to black):  8.8603 %\n",
      "Rel. error (to notional):  0.1521 %\n",
      "\n",
      "Payoff of swaption 25086.636\n",
      "Completed meshgrid computation in 14.207895040512085 seconds\n",
      "-------------------------------------------\n",
      "       QLBS Option Pricing (DP solution)      \n",
      "-------------------------------------------\n",
      "\n",
      "Notional:                 100000000.0\n",
      "Expiry of option (yrs)    1\n",
      "Maturity of underlying (yrs): 10\n",
      "Tenor (payment) structure  every 90 (days)\n",
      "Risk-free rate:           0.03\n",
      "Risk aversion parameter:  0.001\n",
      "Strike:                   0\n",
      "Fixed rate:               0.026058007306373313\n",
      "# Trajectories:           8192\n",
      "\n",
      "QLBS Put Price:           2623084.6194\n",
      "Black Put Price:           2923342.9499\n",
      "Model Put Price:           2995413.8325\n",
      "\n",
      "Rel. error (MC to analytical):  755864.4778 %\n",
      "Rel. error (to black):     -10.2711 %\n",
      "Rel. error (to model):     -12.4300 %\n",
      "Rel. error (model to black):  2.4654 %\n",
      "Rel. error (to notional):  0.3723 %\n",
      "\n",
      "Payoff of swaption 44232.094\n",
      "Completed meshgrid computation in 8.027093887329102 seconds\n",
      "-------------------------------------------\n",
      "       QLBS Option Pricing (DP solution)      \n",
      "-------------------------------------------\n",
      "\n",
      "Notional:                 100000000.0\n",
      "Expiry of option (yrs)    2\n",
      "Maturity of underlying (yrs): 5\n",
      "Tenor (payment) structure  every 90 (days)\n",
      "Risk-free rate:           0.03\n",
      "Risk aversion parameter:  0.001\n",
      "Strike:                   0\n",
      "Fixed rate:               0.026977978885596457\n",
      "# Trajectories:           8192\n",
      "\n",
      "QLBS Put Price:           2189860.0565\n",
      "Black Put Price:           2506474.3203\n",
      "Model Put Price:           2363954.2650\n",
      "\n",
      "Rel. error (MC to analytical):  790444.6168 %\n",
      "Rel. error (to black):     -12.6319 %\n",
      "Rel. error (to model):     -7.3645 %\n",
      "Rel. error (model to black):  -5.6861 %\n",
      "Rel. error (to notional):  0.1741 %\n",
      "\n",
      "Payoff of swaption 85251.169\n",
      "Completed meshgrid computation in 13.682874202728271 seconds\n",
      "-------------------------------------------\n",
      "       QLBS Option Pricing (DP solution)      \n",
      "-------------------------------------------\n",
      "\n",
      "Notional:                 100000000.0\n",
      "Expiry of option (yrs)    2\n",
      "Maturity of underlying (yrs): 10\n",
      "Tenor (payment) structure  every 90 (days)\n",
      "Risk-free rate:           0.03\n",
      "Risk aversion parameter:  0.001\n",
      "Strike:                   0\n",
      "Fixed rate:               0.027232258378293628\n",
      "# Trajectories:           8192\n",
      "\n",
      "QLBS Put Price:           3623674.4736\n",
      "Black Put Price:           4376420.1854\n",
      "Model Put Price:           4074017.3567\n",
      "\n",
      "Rel. error (MC to analytical):  757997.8353 %\n",
      "Rel. error (to black):     -17.2000 %\n",
      "Rel. error (to model):     -11.0540 %\n",
      "Rel. error (model to black):  -6.9098 %\n",
      "Rel. error (to notional):  0.4503 %\n"
     ]
    },
    {
     "name": "stdout",
     "output_type": "stream",
     "text": [
      "\n",
      "Payoff of swaption 140393.284\n",
      "Completed meshgrid computation in 7.819788694381714 seconds\n",
      "-------------------------------------------\n",
      "       QLBS Option Pricing (DP solution)      \n",
      "-------------------------------------------\n",
      "\n",
      "Notional:                 100000000.0\n",
      "Expiry of option (yrs)    5\n",
      "Maturity of underlying (yrs): 5\n",
      "Tenor (payment) structure  every 90 (days)\n",
      "Risk-free rate:           0.03\n",
      "Risk aversion parameter:  0.001\n",
      "Strike:                   0\n",
      "Fixed rate:               0.026645704359242076\n",
      "# Trajectories:           8192\n",
      "\n",
      "QLBS Put Price:           3148611.3613\n",
      "Black Put Price:           3243641.9805\n",
      "Model Put Price:           3214855.3287\n",
      "\n",
      "Rel. error (MC to analytical):  784449.3226 %\n",
      "Rel. error (to black):     -2.9298 %\n",
      "Rel. error (to model):     -2.0606 %\n",
      "Rel. error (model to black):  -0.8875 %\n",
      "Rel. error (to notional):  0.0662 %\n",
      "\n",
      "Payoff of swaption 479524.056\n",
      "Completed meshgrid computation in 13.826213836669922 seconds\n",
      "-------------------------------------------\n",
      "       QLBS Option Pricing (DP solution)      \n",
      "-------------------------------------------\n",
      "\n",
      "Notional:                 100000000.0\n",
      "Expiry of option (yrs)    5\n",
      "Maturity of underlying (yrs): 10\n",
      "Tenor (payment) structure  every 90 (days)\n",
      "Risk-free rate:           0.03\n",
      "Risk aversion parameter:  0.001\n",
      "Strike:                   0\n",
      "Fixed rate:               0.027216680917172994\n",
      "# Trajectories:           8192\n",
      "\n",
      "QLBS Put Price:           5208321.2674\n",
      "Black Put Price:           5760897.6295\n",
      "Model Put Price:           5538564.3376\n",
      "\n",
      "Rel. error (MC to analytical):  752522.8291 %\n",
      "Rel. error (to black):     -9.5918 %\n",
      "Rel. error (to model):     -5.9626 %\n",
      "Rel. error (model to black):  -3.8594 %\n",
      "Rel. error (to notional):  0.3302 %\n",
      "\n",
      "Payoff of swaption 800129.289\n",
      "Completed meshgrid computation in 8.059903144836426 seconds\n",
      "-------------------------------------------\n",
      "       QLBS Option Pricing (DP solution)      \n",
      "-------------------------------------------\n",
      "\n",
      "Notional:                 100000000.0\n",
      "Expiry of option (yrs)    10\n",
      "Maturity of underlying (yrs): 5\n",
      "Tenor (payment) structure  every 90 (days)\n",
      "Risk-free rate:           0.03\n",
      "Risk aversion parameter:  0.001\n",
      "Strike:                   0\n",
      "Fixed rate:               0.027902499539931677\n",
      "# Trajectories:           8192\n",
      "\n",
      "QLBS Put Price:           3713064.1672\n",
      "Black Put Price:           3537364.8355\n",
      "Model Put Price:           3585001.2243\n",
      "\n",
      "Rel. error (MC to analytical):  786165.0040 %\n",
      "Rel. error (to black):     4.9670 %\n",
      "Rel. error (to model):     3.5722 %\n",
      "Rel. error (model to black):  1.3467 %\n",
      "Rel. error (to notional):  0.1281 %\n",
      "\n",
      "Payoff of swaption 1518415.938\n",
      "Completed meshgrid computation in 13.460566997528076 seconds\n",
      "-------------------------------------------\n",
      "       QLBS Option Pricing (DP solution)      \n",
      "-------------------------------------------\n",
      "\n",
      "Notional:                 100000000.0\n",
      "Expiry of option (yrs)    10\n",
      "Maturity of underlying (yrs): 10\n",
      "Tenor (payment) structure  every 90 (days)\n",
      "Risk-free rate:           0.03\n",
      "Risk aversion parameter:  0.001\n",
      "Strike:                   0\n",
      "Fixed rate:               0.025213603223406347\n",
      "# Trajectories:           8192\n",
      "\n",
      "QLBS Put Price:           6188477.7776\n",
      "Black Put Price:           6021981.1825\n",
      "Model Put Price:           6191201.1582\n",
      "\n",
      "Rel. error (MC to analytical):  761401.4943 %\n",
      "Rel. error (to black):     2.7648 %\n",
      "Rel. error (to model):     -0.0440 %\n",
      "Rel. error (model to black):  2.8100 %\n",
      "Rel. error (to notional):  0.0027 %\n",
      "\n",
      "Payoff of swaption 2541820.432\n"
     ]
    }
   ],
   "source": [
    "## multi- sample run with European swaption #\n",
    "glob = dict()\n",
    "forward_terms = [1/12, 3/12, 6/12, 1, 2, 5, 10]\n",
    "expiry_terms = [5, 10]\n",
    "results_model = np.zeros((len(forward_terms), len(expiry_terms)))\n",
    "\n",
    "N_MC = 8192;   \n",
    "calibration_path = 'bloomberg_calibration.csv'\n",
    "vols_path = 'vols_liquid.csv'\n",
    "start = time.time()\n",
    "tsobject = TS(calibration_path, vols_path, payment_periods, tstart, N_MC, notional)\n",
    "print(\"Time to build Term Structure objct = \" + str(time.time() - start) + \" seconds\")\n",
    "\n",
    "results_not = np.zeros((len(forward_terms), len(expiry_terms)))\n",
    "for i in range(len(forward_terms)):\n",
    "    for j in range(len(expiry_terms)):\n",
    "        file_path = 'bloomberg_calibration.csv'\n",
    "        forward_time = forward_terms[i]\n",
    "        maturity = expiry_terms[j]\n",
    "        notional = 1e8\n",
    "        fixed_rate = None\n",
    "        payment_periods = 3\n",
    "        payment_periods *= 30\n",
    "        tau_n = payment_periods/360\n",
    "        tstart = 0;\n",
    "        bs = european(file_path, forward_time, maturity, notional, tsobject, fixed_rate, payment_periods, tau_n, N_MC, tstart, True)\n",
    "        print(\"\\nPayoff of swaption %.3f\" % bs.payoff)\n",
    "        results_model[i,j] = bs.err\n",
    "        results_not[i,j] = bs.err_mc"
   ]
  },
  {
   "cell_type": "code",
   "execution_count": 31,
   "metadata": {},
   "outputs": [
    {
     "data": {
      "text/html": [
       "<div>\n",
       "<style scoped>\n",
       "    .dataframe tbody tr th:only-of-type {\n",
       "        vertical-align: middle;\n",
       "    }\n",
       "\n",
       "    .dataframe tbody tr th {\n",
       "        vertical-align: top;\n",
       "    }\n",
       "\n",
       "    .dataframe thead tr th {\n",
       "        text-align: left;\n",
       "    }\n",
       "</style>\n",
       "<table border=\"1\" class=\"dataframe\">\n",
       "  <thead>\n",
       "    <tr>\n",
       "      <th></th>\n",
       "      <th></th>\n",
       "      <th colspan=\"2\" halign=\"left\">Underlying Swap Tenor</th>\n",
       "    </tr>\n",
       "    <tr>\n",
       "      <th></th>\n",
       "      <th></th>\n",
       "      <th>5</th>\n",
       "      <th>10</th>\n",
       "    </tr>\n",
       "  </thead>\n",
       "  <tbody>\n",
       "    <tr>\n",
       "      <th rowspan=\"7\" valign=\"top\">Option Expiry</th>\n",
       "      <th>0.08333333333333333</th>\n",
       "      <td>-13.187711</td>\n",
       "      <td>-15.108773</td>\n",
       "    </tr>\n",
       "    <tr>\n",
       "      <th>0.25</th>\n",
       "      <td>-12.986754</td>\n",
       "      <td>-15.324493</td>\n",
       "    </tr>\n",
       "    <tr>\n",
       "      <th>0.5</th>\n",
       "      <td>-10.096710</td>\n",
       "      <td>-14.273928</td>\n",
       "    </tr>\n",
       "    <tr>\n",
       "      <th>1</th>\n",
       "      <td>-0.683714</td>\n",
       "      <td>-10.271061</td>\n",
       "    </tr>\n",
       "    <tr>\n",
       "      <th>2</th>\n",
       "      <td>-7.364534</td>\n",
       "      <td>-11.054025</td>\n",
       "    </tr>\n",
       "    <tr>\n",
       "      <th>5</th>\n",
       "      <td>-2.060558</td>\n",
       "      <td>-5.962611</td>\n",
       "    </tr>\n",
       "    <tr>\n",
       "      <th>10</th>\n",
       "      <td>3.572187</td>\n",
       "      <td>-0.043988</td>\n",
       "    </tr>\n",
       "  </tbody>\n",
       "</table>\n",
       "</div>"
      ],
      "text/plain": [
       "                                  Underlying Swap Tenor           \n",
       "                                                      5         10\n",
       "Option Expiry 0.08333333333333333            -13.187711 -15.108773\n",
       "              0.25                           -12.986754 -15.324493\n",
       "              0.5                            -10.096710 -14.273928\n",
       "              1                               -0.683714 -10.271061\n",
       "              2                               -7.364534 -11.054025\n",
       "              5                               -2.060558  -5.962611\n",
       "              10                               3.572187  -0.043988"
      ]
     },
     "metadata": {},
     "output_type": "display_data"
    },
    {
     "data": {
      "text/html": [
       "<div>\n",
       "<style scoped>\n",
       "    .dataframe tbody tr th:only-of-type {\n",
       "        vertical-align: middle;\n",
       "    }\n",
       "\n",
       "    .dataframe tbody tr th {\n",
       "        vertical-align: top;\n",
       "    }\n",
       "\n",
       "    .dataframe thead tr th {\n",
       "        text-align: left;\n",
       "    }\n",
       "</style>\n",
       "<table border=\"1\" class=\"dataframe\">\n",
       "  <thead>\n",
       "    <tr>\n",
       "      <th></th>\n",
       "      <th></th>\n",
       "      <th colspan=\"2\" halign=\"left\">Underlying Swap Tenor</th>\n",
       "    </tr>\n",
       "    <tr>\n",
       "      <th></th>\n",
       "      <th></th>\n",
       "      <th>5</th>\n",
       "      <th>10</th>\n",
       "    </tr>\n",
       "  </thead>\n",
       "  <tbody>\n",
       "    <tr>\n",
       "      <th rowspan=\"7\" valign=\"top\">Option Expiry</th>\n",
       "      <th>0.08333333333333333</th>\n",
       "      <td>763223.530874</td>\n",
       "      <td>735566.021312</td>\n",
       "    </tr>\n",
       "    <tr>\n",
       "      <th>0.25</th>\n",
       "      <td>766088.136370</td>\n",
       "      <td>738039.147682</td>\n",
       "    </tr>\n",
       "    <tr>\n",
       "      <th>0.5</th>\n",
       "      <td>777761.172167</td>\n",
       "      <td>748277.546158</td>\n",
       "    </tr>\n",
       "    <tr>\n",
       "      <th>1</th>\n",
       "      <td>788392.894762</td>\n",
       "      <td>755864.477833</td>\n",
       "    </tr>\n",
       "    <tr>\n",
       "      <th>2</th>\n",
       "      <td>790444.616843</td>\n",
       "      <td>757997.835255</td>\n",
       "    </tr>\n",
       "    <tr>\n",
       "      <th>5</th>\n",
       "      <td>784449.322622</td>\n",
       "      <td>752522.829130</td>\n",
       "    </tr>\n",
       "    <tr>\n",
       "      <th>10</th>\n",
       "      <td>786165.004013</td>\n",
       "      <td>761401.494281</td>\n",
       "    </tr>\n",
       "  </tbody>\n",
       "</table>\n",
       "</div>"
      ],
      "text/plain": [
       "                                  Underlying Swap Tenor               \n",
       "                                                      5             10\n",
       "Option Expiry 0.08333333333333333         763223.530874  735566.021312\n",
       "              0.25                        766088.136370  738039.147682\n",
       "              0.5                         777761.172167  748277.546158\n",
       "              1                           788392.894762  755864.477833\n",
       "              2                           790444.616843  757997.835255\n",
       "              5                           784449.322622  752522.829130\n",
       "              10                          786165.004013  761401.494281"
      ]
     },
     "metadata": {},
     "output_type": "display_data"
    }
   ],
   "source": [
    "mat = [('Underlying Swap Tenor', str(_)) for _ in expiry_terms]\n",
    "exp = [('Option Expiry', str(_)) for _ in forward_terms]\n",
    "df0 = pd.DataFrame(data=results_model, columns = pd.MultiIndex.from_tuples(mat),\n",
    "                 index=pd.MultiIndex.from_tuples(exp))\n",
    "df1 = pd.DataFrame(data=results_not, columns = pd.MultiIndex.from_tuples(mat),\n",
    "                 index=pd.MultiIndex.from_tuples(exp))\n",
    "display(df0)\n",
    "display(df1)"
   ]
  },
  {
   "cell_type": "markdown",
   "metadata": {},
   "source": [
    "# Exp. Run - Bermudan"
   ]
  },
  {
   "cell_type": "code",
   "execution_count": 32,
   "metadata": {},
   "outputs": [
    {
     "name": "stdout",
     "output_type": "stream",
     "text": [
      "Time to build Term Structure objct = 31.687402963638306 seconds\n"
     ]
    },
    {
     "name": "stderr",
     "output_type": "stream",
     "text": [
      "\r",
      "  0%|                                                                                           | 0/11 [00:00<?, ?it/s]"
     ]
    },
    {
     "name": "stdout",
     "output_type": "stream",
     "text": [
      "Populating basket with european swaption # 1\n",
      "Completed meshgrid computation in 4.899764537811279 seconds\n"
     ]
    },
    {
     "name": "stderr",
     "output_type": "stream",
     "text": [
      "\r",
      "  9%|███████▌                                                                           | 1/11 [00:25<04:11, 25.18s/it]"
     ]
    },
    {
     "name": "stdout",
     "output_type": "stream",
     "text": [
      "Populating basket with european swaption # 2\n",
      "Completed meshgrid computation in 4.641735553741455 seconds\n"
     ]
    },
    {
     "name": "stderr",
     "output_type": "stream",
     "text": [
      "\r",
      " 18%|███████████████                                                                    | 2/11 [00:49<03:44, 24.89s/it]"
     ]
    },
    {
     "name": "stdout",
     "output_type": "stream",
     "text": [
      "Populating basket with european swaption # 3\n",
      "Completed meshgrid computation in 4.40710186958313 seconds\n"
     ]
    },
    {
     "name": "stderr",
     "output_type": "stream",
     "text": [
      "\r",
      " 27%|██████████████████████▋                                                            | 3/11 [01:14<03:17, 24.71s/it]"
     ]
    },
    {
     "name": "stdout",
     "output_type": "stream",
     "text": [
      "Populating basket with european swaption # 4\n",
      "Completed meshgrid computation in 4.104202032089233 seconds\n"
     ]
    },
    {
     "name": "stderr",
     "output_type": "stream",
     "text": [
      "\r",
      " 36%|██████████████████████████████▏                                                    | 4/11 [01:38<02:51, 24.49s/it]"
     ]
    },
    {
     "name": "stdout",
     "output_type": "stream",
     "text": [
      "Populating basket with european swaption # 5\n",
      "Completed meshgrid computation in 3.7513012886047363 seconds\n"
     ]
    },
    {
     "name": "stderr",
     "output_type": "stream",
     "text": [
      "\r",
      " 45%|█████████████████████████████████████▋                                             | 5/11 [02:02<02:25, 24.22s/it]"
     ]
    },
    {
     "name": "stdout",
     "output_type": "stream",
     "text": [
      "Populating basket with european swaption # 6\n",
      "Completed meshgrid computation in 3.514317750930786 seconds\n"
     ]
    },
    {
     "name": "stderr",
     "output_type": "stream",
     "text": [
      "\r",
      " 55%|█████████████████████████████████████████████▎                                     | 6/11 [02:25<01:59, 23.99s/it]"
     ]
    },
    {
     "name": "stdout",
     "output_type": "stream",
     "text": [
      "Populating basket with european swaption # 7\n",
      "Completed meshgrid computation in 3.239500045776367 seconds\n"
     ]
    },
    {
     "name": "stderr",
     "output_type": "stream",
     "text": [
      "\r",
      " 64%|████████████████████████████████████████████████████▊                              | 7/11 [02:48<01:34, 23.71s/it]"
     ]
    },
    {
     "name": "stdout",
     "output_type": "stream",
     "text": [
      "Populating basket with european swaption # 8\n",
      "Completed meshgrid computation in 2.9193458557128906 seconds\n"
     ]
    },
    {
     "name": "stderr",
     "output_type": "stream",
     "text": [
      "\r",
      " 73%|████████████████████████████████████████████████████████████▎                      | 8/11 [03:12<01:10, 23.51s/it]"
     ]
    },
    {
     "name": "stdout",
     "output_type": "stream",
     "text": [
      "Populating basket with european swaption # 9\n",
      "Completed meshgrid computation in 2.7492892742156982 seconds\n"
     ]
    },
    {
     "name": "stderr",
     "output_type": "stream",
     "text": [
      "\r",
      " 82%|███████████████████████████████████████████████████████████████████▉               | 9/11 [03:35<00:46, 23.36s/it]"
     ]
    },
    {
     "name": "stdout",
     "output_type": "stream",
     "text": [
      "Populating basket with european swaption # 10\n",
      "Completed meshgrid computation in 2.3766322135925293 seconds\n"
     ]
    },
    {
     "name": "stderr",
     "output_type": "stream",
     "text": [
      "\r",
      " 91%|██████████████████████████████████████████████████████████████████████████▌       | 10/11 [03:57<00:23, 23.07s/it]"
     ]
    },
    {
     "name": "stdout",
     "output_type": "stream",
     "text": [
      "Populating basket with european swaption # 11\n",
      "Completed meshgrid computation in 2.0740039348602295 seconds\n"
     ]
    },
    {
     "name": "stderr",
     "output_type": "stream",
     "text": [
      "100%|██████████████████████████████████████████████████████████████████████████████████| 11/11 [04:19<00:00, 23.58s/it]\n"
     ]
    },
    {
     "name": "stdout",
     "output_type": "stream",
     "text": [
      "\n",
      "----------------------------------------------------------------\n",
      "       Finished accumulating basket of European swaptions!      \n",
      "----------------------------------------------------------------\n",
      "\n",
      "----------------------------------------------------------------\n",
      "*******************************************\n",
      "       QLBS Option Pricing (DP solution)      \n",
      "*******************************************\n",
      "\n",
      "Notional:                 100000000.0\n",
      "Forward time of underlying (yrs) 0.08333333333333333\n",
      "Maturity of underlying (yrs): 5\n",
      "Tenor (payment) structure  every 180 (days)\n",
      "\n",
      "QLBS Bermudan Put Price:  435503.1244\n",
      "QuantLib Bermudan Put Price:  397765.4948\n",
      "Rel. error (to model):     9.4874 %\n",
      "Rel. error (to notional):  0.0377 %\n",
      "----------------------------------------------------------------\n",
      "Time to build Term Structure objct = 31.774462938308716 seconds\n"
     ]
    },
    {
     "name": "stderr",
     "output_type": "stream",
     "text": [
      "\r",
      "  0%|                                                                                           | 0/21 [00:00<?, ?it/s]"
     ]
    },
    {
     "name": "stdout",
     "output_type": "stream",
     "text": [
      "Populating basket with european swaption # 1\n",
      "Completed meshgrid computation in 7.791072368621826 seconds\n"
     ]
    },
    {
     "name": "stderr",
     "output_type": "stream",
     "text": [
      "\r",
      "  5%|███▉                                                                               | 1/21 [00:28<09:20, 28.04s/it]"
     ]
    },
    {
     "name": "stdout",
     "output_type": "stream",
     "text": [
      "Populating basket with european swaption # 2\n",
      "Completed meshgrid computation in 7.460842132568359 seconds\n"
     ]
    },
    {
     "name": "stderr",
     "output_type": "stream",
     "text": [
      "\r",
      " 10%|███████▉                                                                           | 2/21 [00:55<08:49, 27.86s/it]"
     ]
    },
    {
     "name": "stdout",
     "output_type": "stream",
     "text": [
      "Populating basket with european swaption # 3\n",
      "Completed meshgrid computation in 7.35211181640625 seconds\n"
     ]
    },
    {
     "name": "stderr",
     "output_type": "stream",
     "text": [
      "\r",
      " 14%|███████████▊                                                                       | 3/21 [01:23<08:22, 27.91s/it]"
     ]
    },
    {
     "name": "stdout",
     "output_type": "stream",
     "text": [
      "Populating basket with european swaption # 4\n",
      "Completed meshgrid computation in 6.997023344039917 seconds\n"
     ]
    },
    {
     "name": "stderr",
     "output_type": "stream",
     "text": [
      "\r",
      " 19%|███████████████▊                                                                   | 4/21 [01:51<07:50, 27.68s/it]"
     ]
    },
    {
     "name": "stdout",
     "output_type": "stream",
     "text": [
      "Populating basket with european swaption # 5\n",
      "Completed meshgrid computation in 6.613921642303467 seconds\n"
     ]
    },
    {
     "name": "stderr",
     "output_type": "stream",
     "text": [
      "\r",
      " 24%|███████████████████▊                                                               | 5/21 [02:17<07:17, 27.35s/it]"
     ]
    },
    {
     "name": "stdout",
     "output_type": "stream",
     "text": [
      "Populating basket with european swaption # 6\n",
      "Completed meshgrid computation in 6.308099269866943 seconds\n"
     ]
    },
    {
     "name": "stderr",
     "output_type": "stream",
     "text": [
      "\r",
      " 29%|███████████████████████▋                                                           | 6/21 [02:44<06:46, 27.09s/it]"
     ]
    },
    {
     "name": "stdout",
     "output_type": "stream",
     "text": [
      "Populating basket with european swaption # 7\n",
      "Completed meshgrid computation in 6.040785074234009 seconds\n"
     ]
    },
    {
     "name": "stderr",
     "output_type": "stream",
     "text": [
      "\r",
      " 33%|███████████████████████████▋                                                       | 7/21 [03:10<06:15, 26.80s/it]"
     ]
    },
    {
     "name": "stdout",
     "output_type": "stream",
     "text": [
      "Populating basket with european swaption # 8\n",
      "Completed meshgrid computation in 5.797846794128418 seconds\n"
     ]
    },
    {
     "name": "stderr",
     "output_type": "stream",
     "text": [
      "\r",
      " 38%|███████████████████████████████▌                                                   | 8/21 [03:36<05:44, 26.52s/it]"
     ]
    },
    {
     "name": "stdout",
     "output_type": "stream",
     "text": [
      "Populating basket with european swaption # 9\n",
      "Completed meshgrid computation in 5.491714715957642 seconds\n"
     ]
    },
    {
     "name": "stderr",
     "output_type": "stream",
     "text": [
      "\r",
      " 43%|███████████████████████████████████▌                                               | 9/21 [04:02<05:16, 26.35s/it]"
     ]
    },
    {
     "name": "stdout",
     "output_type": "stream",
     "text": [
      "Populating basket with european swaption # 10\n",
      "Completed meshgrid computation in 5.439674377441406 seconds\n"
     ]
    },
    {
     "name": "stderr",
     "output_type": "stream",
     "text": [
      "\r",
      " 48%|███████████████████████████████████████                                           | 10/21 [04:29<04:51, 26.52s/it]"
     ]
    },
    {
     "name": "stdout",
     "output_type": "stream",
     "text": [
      "Populating basket with european swaption # 11\n",
      "Completed meshgrid computation in 5.243916034698486 seconds\n"
     ]
    },
    {
     "name": "stderr",
     "output_type": "stream",
     "text": [
      "\r",
      " 52%|██████████████████████████████████████████▉                                       | 11/21 [04:55<04:23, 26.34s/it]"
     ]
    },
    {
     "name": "stdout",
     "output_type": "stream",
     "text": [
      "Populating basket with european swaption # 12\n",
      "Completed meshgrid computation in 4.819080591201782 seconds\n"
     ]
    },
    {
     "name": "stderr",
     "output_type": "stream",
     "text": [
      "\r",
      " 57%|██████████████████████████████████████████████▊                                   | 12/21 [05:20<03:54, 26.03s/it]"
     ]
    },
    {
     "name": "stdout",
     "output_type": "stream",
     "text": [
      "Populating basket with european swaption # 13\n",
      "Completed meshgrid computation in 4.524451732635498 seconds\n"
     ]
    },
    {
     "name": "stderr",
     "output_type": "stream",
     "text": [
      "\r",
      " 62%|██████████████████████████████████████████████████▊                               | 13/21 [05:45<03:24, 25.58s/it]"
     ]
    },
    {
     "name": "stdout",
     "output_type": "stream",
     "text": [
      "Populating basket with european swaption # 14\n",
      "Completed meshgrid computation in 4.043745994567871 seconds\n"
     ]
    },
    {
     "name": "stderr",
     "output_type": "stream",
     "text": [
      "\r",
      " 67%|██████████████████████████████████████████████████████▋                           | 14/21 [06:09<02:55, 25.11s/it]"
     ]
    },
    {
     "name": "stdout",
     "output_type": "stream",
     "text": [
      "Populating basket with european swaption # 15\n",
      "Completed meshgrid computation in 3.779981851577759 seconds\n"
     ]
    },
    {
     "name": "stderr",
     "output_type": "stream",
     "text": [
      "\r",
      " 71%|██████████████████████████████████████████████████████████▌                       | 15/21 [06:32<02:28, 24.67s/it]"
     ]
    },
    {
     "name": "stdout",
     "output_type": "stream",
     "text": [
      "Populating basket with european swaption # 16\n",
      "Completed meshgrid computation in 3.4821696281433105 seconds\n"
     ]
    },
    {
     "name": "stderr",
     "output_type": "stream",
     "text": [
      "\r",
      " 76%|██████████████████████████████████████████████████████████████▍                   | 16/21 [06:56<02:01, 24.35s/it]"
     ]
    },
    {
     "name": "stdout",
     "output_type": "stream",
     "text": [
      "Populating basket with european swaption # 17\n",
      "Completed meshgrid computation in 3.394493818283081 seconds\n"
     ]
    },
    {
     "name": "stderr",
     "output_type": "stream",
     "text": [
      "\r",
      " 81%|██████████████████████████████████████████████████████████████████▍               | 17/21 [07:19<01:36, 24.03s/it]"
     ]
    },
    {
     "name": "stdout",
     "output_type": "stream",
     "text": [
      "Populating basket with european swaption # 18\n",
      "Completed meshgrid computation in 2.959634304046631 seconds\n"
     ]
    },
    {
     "name": "stderr",
     "output_type": "stream",
     "text": [
      "\r",
      " 86%|██████████████████████████████████████████████████████████████████████▎           | 18/21 [07:42<01:10, 23.66s/it]"
     ]
    },
    {
     "name": "stdout",
     "output_type": "stream",
     "text": [
      "Populating basket with european swaption # 19\n",
      "Completed meshgrid computation in 2.630067825317383 seconds\n"
     ]
    },
    {
     "name": "stderr",
     "output_type": "stream",
     "text": [
      "\r",
      " 90%|██████████████████████████████████████████████████████████████████████████▏       | 19/21 [08:05<00:46, 23.38s/it]"
     ]
    },
    {
     "name": "stdout",
     "output_type": "stream",
     "text": [
      "Populating basket with european swaption # 20\n",
      "Completed meshgrid computation in 2.3473284244537354 seconds\n"
     ]
    },
    {
     "name": "stderr",
     "output_type": "stream",
     "text": [
      "\r",
      " 95%|██████████████████████████████████████████████████████████████████████████████    | 20/21 [08:27<00:23, 23.02s/it]"
     ]
    },
    {
     "name": "stdout",
     "output_type": "stream",
     "text": [
      "Populating basket with european swaption # 21\n",
      "Completed meshgrid computation in 2.0888004302978516 seconds\n"
     ]
    },
    {
     "name": "stderr",
     "output_type": "stream",
     "text": [
      "100%|██████████████████████████████████████████████████████████████████████████████████| 21/21 [08:49<00:00, 25.21s/it]\n"
     ]
    },
    {
     "name": "stdout",
     "output_type": "stream",
     "text": [
      "\n",
      "----------------------------------------------------------------\n",
      "       Finished accumulating basket of European swaptions!      \n",
      "----------------------------------------------------------------\n",
      "\n",
      "----------------------------------------------------------------\n",
      "*******************************************\n",
      "       QLBS Option Pricing (DP solution)      \n",
      "*******************************************\n",
      "\n",
      "Notional:                 100000000.0\n",
      "Forward time of underlying (yrs) 0.08333333333333333\n",
      "Maturity of underlying (yrs): 10\n",
      "Tenor (payment) structure  every 180 (days)\n",
      "\n",
      "QLBS Bermudan Put Price:  697308.6384\n",
      "QuantLib Bermudan Put Price:  709042.2077\n",
      "Rel. error (to model):     -1.6548 %\n",
      "Rel. error (to notional):  0.0117 %\n",
      "----------------------------------------------------------------\n",
      "Time to build Term Structure objct = 31.633810997009277 seconds\n"
     ]
    },
    {
     "name": "stderr",
     "output_type": "stream",
     "text": [
      "\r",
      "  0%|                                                                                           | 0/11 [00:00<?, ?it/s]"
     ]
    },
    {
     "name": "stdout",
     "output_type": "stream",
     "text": [
      "Populating basket with european swaption # 1\n",
      "Completed meshgrid computation in 4.909841537475586 seconds\n"
     ]
    },
    {
     "name": "stderr",
     "output_type": "stream",
     "text": [
      "\r",
      "  9%|███████▌                                                                           | 1/11 [00:24<04:09, 24.92s/it]"
     ]
    },
    {
     "name": "stdout",
     "output_type": "stream",
     "text": [
      "Populating basket with european swaption # 2\n",
      "Completed meshgrid computation in 4.609116792678833 seconds\n"
     ]
    },
    {
     "name": "stderr",
     "output_type": "stream",
     "text": [
      "\r",
      " 18%|███████████████                                                                    | 2/11 [00:49<03:42, 24.72s/it]"
     ]
    },
    {
     "name": "stdout",
     "output_type": "stream",
     "text": [
      "Populating basket with european swaption # 3\n",
      "Completed meshgrid computation in 4.341333627700806 seconds\n"
     ]
    },
    {
     "name": "stderr",
     "output_type": "stream",
     "text": [
      "\r",
      " 27%|██████████████████████▋                                                            | 3/11 [01:13<03:16, 24.50s/it]"
     ]
    },
    {
     "name": "stdout",
     "output_type": "stream",
     "text": [
      "Populating basket with european swaption # 4\n",
      "Completed meshgrid computation in 4.059202432632446 seconds\n"
     ]
    },
    {
     "name": "stderr",
     "output_type": "stream",
     "text": [
      "\r",
      " 36%|██████████████████████████████▏                                                    | 4/11 [01:37<02:50, 24.37s/it]"
     ]
    },
    {
     "name": "stdout",
     "output_type": "stream",
     "text": [
      "Populating basket with european swaption # 5\n",
      "Completed meshgrid computation in 3.735335350036621 seconds\n"
     ]
    },
    {
     "name": "stderr",
     "output_type": "stream",
     "text": [
      "\r",
      " 45%|█████████████████████████████████████▋                                             | 5/11 [02:01<02:25, 24.17s/it]"
     ]
    },
    {
     "name": "stdout",
     "output_type": "stream",
     "text": [
      "Populating basket with european swaption # 6\n",
      "Completed meshgrid computation in 3.4519927501678467 seconds\n"
     ]
    },
    {
     "name": "stderr",
     "output_type": "stream",
     "text": [
      "\r",
      " 55%|█████████████████████████████████████████████▎                                     | 6/11 [02:25<01:59, 23.89s/it]"
     ]
    },
    {
     "name": "stdout",
     "output_type": "stream",
     "text": [
      "Populating basket with european swaption # 7\n",
      "Completed meshgrid computation in 3.2113897800445557 seconds\n"
     ]
    },
    {
     "name": "stderr",
     "output_type": "stream",
     "text": [
      "\r",
      " 64%|████████████████████████████████████████████████████▊                              | 7/11 [02:48<01:34, 23.71s/it]"
     ]
    },
    {
     "name": "stdout",
     "output_type": "stream",
     "text": [
      "Populating basket with european swaption # 8\n",
      "Completed meshgrid computation in 2.913266658782959 seconds\n"
     ]
    },
    {
     "name": "stderr",
     "output_type": "stream",
     "text": [
      "\r",
      " 73%|████████████████████████████████████████████████████████████▎                      | 8/11 [03:11<01:10, 23.41s/it]"
     ]
    },
    {
     "name": "stdout",
     "output_type": "stream",
     "text": [
      "Populating basket with european swaption # 9\n",
      "Completed meshgrid computation in 2.6015124320983887 seconds\n"
     ]
    },
    {
     "name": "stderr",
     "output_type": "stream",
     "text": [
      "\r",
      " 82%|███████████████████████████████████████████████████████████████████▉               | 9/11 [03:33<00:46, 23.13s/it]"
     ]
    },
    {
     "name": "stdout",
     "output_type": "stream",
     "text": [
      "Populating basket with european swaption # 10\n",
      "Completed meshgrid computation in 2.3495566844940186 seconds\n"
     ]
    },
    {
     "name": "stderr",
     "output_type": "stream",
     "text": [
      "\r",
      " 91%|██████████████████████████████████████████████████████████████████████████▌       | 10/11 [03:56<00:22, 22.88s/it]"
     ]
    },
    {
     "name": "stdout",
     "output_type": "stream",
     "text": [
      "Populating basket with european swaption # 11\n",
      "Completed meshgrid computation in 2.0810585021972656 seconds\n"
     ]
    },
    {
     "name": "stderr",
     "output_type": "stream",
     "text": [
      "100%|██████████████████████████████████████████████████████████████████████████████████| 11/11 [04:18<00:00, 23.50s/it]\n"
     ]
    },
    {
     "name": "stdout",
     "output_type": "stream",
     "text": [
      "\n",
      "----------------------------------------------------------------\n",
      "       Finished accumulating basket of European swaptions!      \n",
      "----------------------------------------------------------------\n",
      "\n",
      "----------------------------------------------------------------\n",
      "*******************************************\n",
      "       QLBS Option Pricing (DP solution)      \n",
      "*******************************************\n",
      "\n",
      "Notional:                 100000000.0\n",
      "Forward time of underlying (yrs) 0.25\n",
      "Maturity of underlying (yrs): 5\n",
      "Tenor (payment) structure  every 180 (days)\n",
      "\n",
      "QLBS Bermudan Put Price:  742498.2858\n",
      "QuantLib Bermudan Put Price:  792480.7930\n",
      "Rel. error (to model):     -6.3071 %\n",
      "Rel. error (to notional):  0.0500 %\n",
      "----------------------------------------------------------------\n",
      "Time to build Term Structure objct = 31.92895746231079 seconds\n"
     ]
    },
    {
     "name": "stderr",
     "output_type": "stream",
     "text": [
      "\r",
      "  0%|                                                                                           | 0/21 [00:00<?, ?it/s]"
     ]
    },
    {
     "name": "stdout",
     "output_type": "stream",
     "text": [
      "Populating basket with european swaption # 1\n",
      "Completed meshgrid computation in 7.765279531478882 seconds\n"
     ]
    },
    {
     "name": "stderr",
     "output_type": "stream",
     "text": [
      "\r",
      "  5%|███▉                                                                               | 1/21 [00:27<09:18, 27.93s/it]"
     ]
    },
    {
     "name": "stdout",
     "output_type": "stream",
     "text": [
      "Populating basket with european swaption # 2\n",
      "Completed meshgrid computation in 7.42409348487854 seconds\n"
     ]
    },
    {
     "name": "stderr",
     "output_type": "stream",
     "text": [
      "\r",
      " 10%|███████▉                                                                           | 2/21 [00:55<08:47, 27.74s/it]"
     ]
    },
    {
     "name": "stdout",
     "output_type": "stream",
     "text": [
      "Populating basket with european swaption # 3\n",
      "Completed meshgrid computation in 7.147505044937134 seconds\n"
     ]
    },
    {
     "name": "stderr",
     "output_type": "stream",
     "text": [
      "\r",
      " 14%|███████████▊                                                                       | 3/21 [01:22<08:15, 27.54s/it]"
     ]
    },
    {
     "name": "stdout",
     "output_type": "stream",
     "text": [
      "Populating basket with european swaption # 4\n",
      "Completed meshgrid computation in 6.869278430938721 seconds\n"
     ]
    },
    {
     "name": "stderr",
     "output_type": "stream",
     "text": [
      "\r",
      " 19%|███████████████▊                                                                   | 4/21 [01:50<07:46, 27.47s/it]"
     ]
    },
    {
     "name": "stdout",
     "output_type": "stream",
     "text": [
      "Populating basket with european swaption # 5\n",
      "Completed meshgrid computation in 6.631288766860962 seconds\n"
     ]
    },
    {
     "name": "stderr",
     "output_type": "stream",
     "text": [
      "\r",
      " 24%|███████████████████▊                                                               | 5/21 [02:17<07:20, 27.50s/it]"
     ]
    },
    {
     "name": "stdout",
     "output_type": "stream",
     "text": [
      "Populating basket with european swaption # 6\n",
      "Completed meshgrid computation in 6.691319942474365 seconds\n"
     ]
    },
    {
     "name": "stderr",
     "output_type": "stream",
     "text": [
      "\r",
      " 29%|███████████████████████▋                                                           | 6/21 [02:45<06:53, 27.56s/it]"
     ]
    },
    {
     "name": "stdout",
     "output_type": "stream",
     "text": [
      "Populating basket with european swaption # 7\n",
      "Completed meshgrid computation in 6.303778409957886 seconds\n"
     ]
    },
    {
     "name": "stderr",
     "output_type": "stream",
     "text": [
      "\r",
      " 33%|███████████████████████████▋                                                       | 7/21 [03:12<06:24, 27.43s/it]"
     ]
    },
    {
     "name": "stdout",
     "output_type": "stream",
     "text": [
      "Populating basket with european swaption # 8\n",
      "Completed meshgrid computation in 6.032661437988281 seconds\n"
     ]
    },
    {
     "name": "stderr",
     "output_type": "stream",
     "text": [
      "\r",
      " 38%|███████████████████████████████▌                                                   | 8/21 [03:39<05:54, 27.28s/it]"
     ]
    },
    {
     "name": "stdout",
     "output_type": "stream",
     "text": [
      "Populating basket with european swaption # 9\n",
      "Completed meshgrid computation in 6.236947298049927 seconds\n"
     ]
    },
    {
     "name": "stderr",
     "output_type": "stream",
     "text": [
      "\r",
      " 43%|███████████████████████████████████▌                                               | 9/21 [04:07<05:29, 27.42s/it]"
     ]
    },
    {
     "name": "stdout",
     "output_type": "stream",
     "text": [
      "Populating basket with european swaption # 10\n",
      "Completed meshgrid computation in 5.458141803741455 seconds\n"
     ]
    },
    {
     "name": "stderr",
     "output_type": "stream",
     "text": [
      "\r",
      " 48%|███████████████████████████████████████                                           | 10/21 [04:33<04:58, 27.12s/it]"
     ]
    },
    {
     "name": "stdout",
     "output_type": "stream",
     "text": [
      "Populating basket with european swaption # 11\n",
      "Completed meshgrid computation in 5.193576812744141 seconds\n"
     ]
    },
    {
     "name": "stderr",
     "output_type": "stream",
     "text": [
      "\r",
      " 52%|██████████████████████████████████████████▉                                       | 11/21 [04:59<04:28, 26.84s/it]"
     ]
    },
    {
     "name": "stdout",
     "output_type": "stream",
     "text": [
      "Populating basket with european swaption # 12\n",
      "Completed meshgrid computation in 4.814026355743408 seconds\n"
     ]
    },
    {
     "name": "stderr",
     "output_type": "stream",
     "text": [
      "\r",
      " 57%|██████████████████████████████████████████████▊                                   | 12/21 [05:26<04:00, 26.71s/it]"
     ]
    },
    {
     "name": "stdout",
     "output_type": "stream",
     "text": [
      "Populating basket with european swaption # 13\n",
      "Completed meshgrid computation in 4.587912082672119 seconds\n"
     ]
    },
    {
     "name": "stderr",
     "output_type": "stream",
     "text": [
      "\r",
      " 62%|██████████████████████████████████████████████████▊                               | 13/21 [05:52<03:33, 26.65s/it]"
     ]
    },
    {
     "name": "stdout",
     "output_type": "stream",
     "text": [
      "Populating basket with european swaption # 14\n",
      "Completed meshgrid computation in 4.311541795730591 seconds\n"
     ]
    },
    {
     "name": "stderr",
     "output_type": "stream",
     "text": [
      "\r",
      " 67%|██████████████████████████████████████████████████████▋                           | 14/21 [06:18<03:03, 26.22s/it]"
     ]
    },
    {
     "name": "stdout",
     "output_type": "stream",
     "text": [
      "Populating basket with european swaption # 15\n",
      "Completed meshgrid computation in 3.9311721324920654 seconds\n"
     ]
    },
    {
     "name": "stderr",
     "output_type": "stream",
     "text": [
      "\r",
      " 71%|██████████████████████████████████████████████████████████▌                       | 15/21 [06:42<02:34, 25.79s/it]"
     ]
    },
    {
     "name": "stdout",
     "output_type": "stream",
     "text": [
      "Populating basket with european swaption # 16\n",
      "Completed meshgrid computation in 3.580709934234619 seconds\n"
     ]
    },
    {
     "name": "stderr",
     "output_type": "stream",
     "text": [
      "\r",
      " 76%|██████████████████████████████████████████████████████████████▍                   | 16/21 [07:07<02:06, 25.36s/it]"
     ]
    },
    {
     "name": "stdout",
     "output_type": "stream",
     "text": [
      "Populating basket with european swaption # 17\n",
      "Completed meshgrid computation in 3.4962666034698486 seconds\n"
     ]
    },
    {
     "name": "stderr",
     "output_type": "stream",
     "text": [
      "\r",
      " 81%|██████████████████████████████████████████████████████████████████▍               | 17/21 [07:32<01:41, 25.33s/it]"
     ]
    },
    {
     "name": "stdout",
     "output_type": "stream",
     "text": [
      "Populating basket with european swaption # 18\n",
      "Completed meshgrid computation in 2.9888968467712402 seconds\n"
     ]
    },
    {
     "name": "stderr",
     "output_type": "stream",
     "text": [
      "\r",
      " 86%|██████████████████████████████████████████████████████████████████████▎           | 18/21 [07:55<01:14, 24.78s/it]"
     ]
    },
    {
     "name": "stdout",
     "output_type": "stream",
     "text": [
      "Populating basket with european swaption # 19\n",
      "Completed meshgrid computation in 2.7173938751220703 seconds\n"
     ]
    },
    {
     "name": "stderr",
     "output_type": "stream",
     "text": [
      "\r",
      " 90%|██████████████████████████████████████████████████████████████████████████▏       | 19/21 [08:19<00:48, 24.26s/it]"
     ]
    },
    {
     "name": "stdout",
     "output_type": "stream",
     "text": [
      "Populating basket with european swaption # 20\n",
      "Completed meshgrid computation in 2.4125874042510986 seconds\n"
     ]
    },
    {
     "name": "stderr",
     "output_type": "stream",
     "text": [
      "\r",
      " 95%|██████████████████████████████████████████████████████████████████████████████    | 20/21 [08:42<00:23, 23.89s/it]"
     ]
    },
    {
     "name": "stdout",
     "output_type": "stream",
     "text": [
      "Populating basket with european swaption # 21\n",
      "Completed meshgrid computation in 2.2157154083251953 seconds\n"
     ]
    },
    {
     "name": "stderr",
     "output_type": "stream",
     "text": [
      "100%|██████████████████████████████████████████████████████████████████████████████████| 21/21 [09:04<00:00, 25.94s/it]\n"
     ]
    },
    {
     "name": "stdout",
     "output_type": "stream",
     "text": [
      "\n",
      "----------------------------------------------------------------\n",
      "       Finished accumulating basket of European swaptions!      \n",
      "----------------------------------------------------------------\n",
      "\n",
      "----------------------------------------------------------------\n",
      "*******************************************\n",
      "       QLBS Option Pricing (DP solution)      \n",
      "*******************************************\n",
      "\n",
      "Notional:                 100000000.0\n",
      "Forward time of underlying (yrs) 0.25\n",
      "Maturity of underlying (yrs): 10\n",
      "Tenor (payment) structure  every 180 (days)\n",
      "\n",
      "QLBS Bermudan Put Price:  1186265.3562\n",
      "QuantLib Bermudan Put Price:  1210645.4870\n",
      "Rel. error (to model):     -2.0138 %\n",
      "Rel. error (to notional):  0.0244 %\n",
      "----------------------------------------------------------------\n",
      "Time to build Term Structure objct = 33.2876033782959 seconds\n"
     ]
    },
    {
     "name": "stderr",
     "output_type": "stream",
     "text": [
      "\r",
      "  0%|                                                                                           | 0/11 [00:00<?, ?it/s]"
     ]
    },
    {
     "name": "stdout",
     "output_type": "stream",
     "text": [
      "Populating basket with european swaption # 1\n",
      "Completed meshgrid computation in 5.031071424484253 seconds\n"
     ]
    },
    {
     "name": "stderr",
     "output_type": "stream",
     "text": [
      "\r",
      "  9%|███████▌                                                                           | 1/11 [00:25<04:18, 25.89s/it]"
     ]
    },
    {
     "name": "stdout",
     "output_type": "stream",
     "text": [
      "Populating basket with european swaption # 2\n",
      "Completed meshgrid computation in 5.009002685546875 seconds\n"
     ]
    },
    {
     "name": "stderr",
     "output_type": "stream",
     "text": [
      "\r",
      " 18%|███████████████                                                                    | 2/11 [00:52<03:56, 26.29s/it]"
     ]
    },
    {
     "name": "stdout",
     "output_type": "stream",
     "text": [
      "Populating basket with european swaption # 3\n",
      "Completed meshgrid computation in 4.531871795654297 seconds\n"
     ]
    },
    {
     "name": "stderr",
     "output_type": "stream",
     "text": [
      "\r",
      " 27%|██████████████████████▋                                                            | 3/11 [01:17<03:24, 25.60s/it]"
     ]
    },
    {
     "name": "stdout",
     "output_type": "stream",
     "text": [
      "Populating basket with european swaption # 4\n",
      "Completed meshgrid computation in 4.116663217544556 seconds\n"
     ]
    },
    {
     "name": "stderr",
     "output_type": "stream",
     "text": [
      "\r",
      " 36%|██████████████████████████████▏                                                    | 4/11 [01:41<02:56, 25.16s/it]"
     ]
    },
    {
     "name": "stdout",
     "output_type": "stream",
     "text": [
      "Populating basket with european swaption # 5\n",
      "Completed meshgrid computation in 3.8351762294769287 seconds\n"
     ]
    },
    {
     "name": "stderr",
     "output_type": "stream",
     "text": [
      "\r",
      " 45%|█████████████████████████████████████▋                                             | 5/11 [02:05<02:28, 24.79s/it]"
     ]
    },
    {
     "name": "stdout",
     "output_type": "stream",
     "text": [
      "Populating basket with european swaption # 6\n",
      "Completed meshgrid computation in 3.552180767059326 seconds\n"
     ]
    },
    {
     "name": "stderr",
     "output_type": "stream",
     "text": [
      "\r",
      " 55%|█████████████████████████████████████████████▎                                     | 6/11 [02:29<02:02, 24.46s/it]"
     ]
    },
    {
     "name": "stdout",
     "output_type": "stream",
     "text": [
      "Populating basket with european swaption # 7\n",
      "Completed meshgrid computation in 3.4344704151153564 seconds\n"
     ]
    },
    {
     "name": "stderr",
     "output_type": "stream",
     "text": [
      "\r",
      " 64%|████████████████████████████████████████████████████▊                              | 7/11 [02:53<01:36, 24.19s/it]"
     ]
    },
    {
     "name": "stdout",
     "output_type": "stream",
     "text": [
      "Populating basket with european swaption # 8\n",
      "Completed meshgrid computation in 2.982022762298584 seconds\n"
     ]
    },
    {
     "name": "stderr",
     "output_type": "stream",
     "text": [
      "\r",
      " 73%|████████████████████████████████████████████████████████████▎                      | 8/11 [03:16<01:11, 23.86s/it]"
     ]
    },
    {
     "name": "stdout",
     "output_type": "stream",
     "text": [
      "Populating basket with european swaption # 9\n",
      "Completed meshgrid computation in 2.692152738571167 seconds\n"
     ]
    },
    {
     "name": "stderr",
     "output_type": "stream",
     "text": [
      "\r",
      " 82%|███████████████████████████████████████████████████████████████████▉               | 9/11 [03:39<00:47, 23.63s/it]"
     ]
    },
    {
     "name": "stdout",
     "output_type": "stream",
     "text": [
      "Populating basket with european swaption # 10\n",
      "Completed meshgrid computation in 2.826904058456421 seconds\n"
     ]
    },
    {
     "name": "stderr",
     "output_type": "stream",
     "text": [
      "\r",
      " 91%|██████████████████████████████████████████████████████████████████████████▌       | 10/11 [04:03<00:23, 23.74s/it]"
     ]
    },
    {
     "name": "stdout",
     "output_type": "stream",
     "text": [
      "Populating basket with european swaption # 11\n",
      "Completed meshgrid computation in 2.154111862182617 seconds\n"
     ]
    },
    {
     "name": "stderr",
     "output_type": "stream",
     "text": [
      "100%|██████████████████████████████████████████████████████████████████████████████████| 11/11 [04:27<00:00, 24.34s/it]\n"
     ]
    },
    {
     "name": "stdout",
     "output_type": "stream",
     "text": [
      "\n",
      "----------------------------------------------------------------\n",
      "       Finished accumulating basket of European swaptions!      \n",
      "----------------------------------------------------------------\n",
      "\n",
      "----------------------------------------------------------------\n",
      "*******************************************\n",
      "       QLBS Option Pricing (DP solution)      \n",
      "*******************************************\n",
      "\n",
      "Notional:                 100000000.0\n",
      "Forward time of underlying (yrs) 0.5\n",
      "Maturity of underlying (yrs): 5\n",
      "Tenor (payment) structure  every 180 (days)\n",
      "\n",
      "QLBS Bermudan Put Price:  1023757.6302\n",
      "QuantLib Bermudan Put Price:  1215417.7293\n",
      "Rel. error (to model):     -15.7691 %\n",
      "Rel. error (to notional):  0.1917 %\n",
      "----------------------------------------------------------------\n",
      "Time to build Term Structure objct = 34.44009304046631 seconds\n"
     ]
    },
    {
     "name": "stderr",
     "output_type": "stream",
     "text": [
      "\r",
      "  0%|                                                                                           | 0/21 [00:00<?, ?it/s]"
     ]
    },
    {
     "name": "stdout",
     "output_type": "stream",
     "text": [
      "Populating basket with european swaption # 1\n",
      "Completed meshgrid computation in 7.939055919647217 seconds\n"
     ]
    },
    {
     "name": "stderr",
     "output_type": "stream",
     "text": [
      "\r",
      "  5%|███▉                                                                               | 1/21 [00:29<09:47, 29.40s/it]"
     ]
    },
    {
     "name": "stdout",
     "output_type": "stream",
     "text": [
      "Populating basket with european swaption # 2\n",
      "Completed meshgrid computation in 7.821792840957642 seconds\n"
     ]
    },
    {
     "name": "stderr",
     "output_type": "stream",
     "text": [
      "\r",
      " 10%|███████▉                                                                           | 2/21 [00:58<09:10, 28.99s/it]"
     ]
    },
    {
     "name": "stdout",
     "output_type": "stream",
     "text": [
      "Populating basket with european swaption # 3\n",
      "Completed meshgrid computation in 7.517439365386963 seconds\n"
     ]
    },
    {
     "name": "stderr",
     "output_type": "stream",
     "text": [
      "\r",
      " 14%|███████████▊                                                                       | 3/21 [01:26<08:38, 28.83s/it]"
     ]
    },
    {
     "name": "stdout",
     "output_type": "stream",
     "text": [
      "Populating basket with european swaption # 4\n",
      "Completed meshgrid computation in 7.225184202194214 seconds\n"
     ]
    },
    {
     "name": "stderr",
     "output_type": "stream",
     "text": [
      "\r",
      " 19%|███████████████▊                                                                   | 4/21 [01:55<08:06, 28.65s/it]"
     ]
    },
    {
     "name": "stdout",
     "output_type": "stream",
     "text": [
      "Populating basket with european swaption # 5\n",
      "Completed meshgrid computation in 6.971961975097656 seconds\n"
     ]
    },
    {
     "name": "stderr",
     "output_type": "stream",
     "text": [
      "\r",
      " 24%|███████████████████▊                                                               | 5/21 [02:23<07:35, 28.49s/it]"
     ]
    },
    {
     "name": "stdout",
     "output_type": "stream",
     "text": [
      "Populating basket with european swaption # 6\n",
      "Completed meshgrid computation in 6.573645353317261 seconds\n"
     ]
    },
    {
     "name": "stderr",
     "output_type": "stream",
     "text": [
      "\r",
      " 29%|███████████████████████▋                                                           | 6/21 [02:50<07:02, 28.14s/it]"
     ]
    },
    {
     "name": "stdout",
     "output_type": "stream",
     "text": [
      "Populating basket with european swaption # 7\n",
      "Completed meshgrid computation in 6.354375600814819 seconds\n"
     ]
    },
    {
     "name": "stderr",
     "output_type": "stream",
     "text": [
      "\r",
      " 33%|███████████████████████████▋                                                       | 7/21 [03:18<06:30, 27.89s/it]"
     ]
    },
    {
     "name": "stdout",
     "output_type": "stream",
     "text": [
      "Populating basket with european swaption # 8\n",
      "Completed meshgrid computation in 6.045891761779785 seconds\n"
     ]
    },
    {
     "name": "stderr",
     "output_type": "stream",
     "text": [
      "\r",
      " 38%|███████████████████████████████▌                                                   | 8/21 [03:45<05:59, 27.63s/it]"
     ]
    },
    {
     "name": "stdout",
     "output_type": "stream",
     "text": [
      "Populating basket with european swaption # 9\n",
      "Completed meshgrid computation in 5.82815408706665 seconds\n"
     ]
    },
    {
     "name": "stderr",
     "output_type": "stream",
     "text": [
      "\r",
      " 43%|███████████████████████████████████▌                                               | 9/21 [04:12<05:28, 27.40s/it]"
     ]
    },
    {
     "name": "stdout",
     "output_type": "stream",
     "text": [
      "Populating basket with european swaption # 10\n",
      "Completed meshgrid computation in 5.475251913070679 seconds\n"
     ]
    },
    {
     "name": "stderr",
     "output_type": "stream",
     "text": [
      "\r",
      " 48%|███████████████████████████████████████                                           | 10/21 [04:38<04:58, 27.10s/it]"
     ]
    },
    {
     "name": "stdout",
     "output_type": "stream",
     "text": [
      "Populating basket with european swaption # 11\n",
      "Completed meshgrid computation in 5.0962865352630615 seconds\n"
     ]
    },
    {
     "name": "stderr",
     "output_type": "stream",
     "text": [
      "\r",
      " 52%|██████████████████████████████████████████▉                                       | 11/21 [05:04<04:27, 26.75s/it]"
     ]
    },
    {
     "name": "stdout",
     "output_type": "stream",
     "text": [
      "Populating basket with european swaption # 12\n",
      "Completed meshgrid computation in 4.800466537475586 seconds\n"
     ]
    },
    {
     "name": "stderr",
     "output_type": "stream",
     "text": [
      "\r",
      " 57%|██████████████████████████████████████████████▊                                   | 12/21 [05:30<03:58, 26.51s/it]"
     ]
    },
    {
     "name": "stdout",
     "output_type": "stream",
     "text": [
      "Populating basket with european swaption # 13\n",
      "Completed meshgrid computation in 4.592396974563599 seconds\n"
     ]
    },
    {
     "name": "stderr",
     "output_type": "stream",
     "text": [
      "\r",
      " 62%|██████████████████████████████████████████████████▊                               | 13/21 [05:56<03:29, 26.25s/it]"
     ]
    },
    {
     "name": "stdout",
     "output_type": "stream",
     "text": [
      "Populating basket with european swaption # 14\n",
      "Completed meshgrid computation in 4.231039047241211 seconds\n"
     ]
    },
    {
     "name": "stderr",
     "output_type": "stream",
     "text": [
      "\r",
      " 67%|██████████████████████████████████████████████████████▋                           | 14/21 [06:21<03:01, 25.92s/it]"
     ]
    },
    {
     "name": "stdout",
     "output_type": "stream",
     "text": [
      "Populating basket with european swaption # 15\n",
      "Completed meshgrid computation in 4.003680944442749 seconds\n"
     ]
    },
    {
     "name": "stderr",
     "output_type": "stream",
     "text": [
      "\r",
      " 71%|██████████████████████████████████████████████████████████▌                       | 15/21 [06:46<02:33, 25.56s/it]"
     ]
    },
    {
     "name": "stdout",
     "output_type": "stream",
     "text": [
      "Populating basket with european swaption # 16\n",
      "Completed meshgrid computation in 3.6042230129241943 seconds\n"
     ]
    },
    {
     "name": "stderr",
     "output_type": "stream",
     "text": [
      "\r",
      " 76%|██████████████████████████████████████████████████████████████▍                   | 16/21 [07:09<02:05, 25.06s/it]"
     ]
    },
    {
     "name": "stdout",
     "output_type": "stream",
     "text": [
      "Populating basket with european swaption # 17\n",
      "Completed meshgrid computation in 3.2672693729400635 seconds\n"
     ]
    },
    {
     "name": "stderr",
     "output_type": "stream",
     "text": [
      "\r",
      " 81%|██████████████████████████████████████████████████████████████████▍               | 17/21 [07:33<01:38, 24.59s/it]"
     ]
    },
    {
     "name": "stdout",
     "output_type": "stream",
     "text": [
      "Populating basket with european swaption # 18\n",
      "Completed meshgrid computation in 2.9798929691314697 seconds\n"
     ]
    },
    {
     "name": "stderr",
     "output_type": "stream",
     "text": [
      "\r",
      " 86%|██████████████████████████████████████████████████████████████████████▎           | 18/21 [07:57<01:12, 24.30s/it]"
     ]
    },
    {
     "name": "stdout",
     "output_type": "stream",
     "text": [
      "Populating basket with european swaption # 19\n",
      "Completed meshgrid computation in 3.021089792251587 seconds\n"
     ]
    },
    {
     "name": "stderr",
     "output_type": "stream",
     "text": [
      "\r",
      " 90%|██████████████████████████████████████████████████████████████████████████▏       | 19/21 [08:20<00:48, 24.02s/it]"
     ]
    },
    {
     "name": "stdout",
     "output_type": "stream",
     "text": [
      "Populating basket with european swaption # 20\n",
      "Completed meshgrid computation in 2.4072747230529785 seconds\n"
     ]
    },
    {
     "name": "stderr",
     "output_type": "stream",
     "text": [
      "\r",
      " 95%|██████████████████████████████████████████████████████████████████████████████    | 20/21 [08:43<00:23, 23.64s/it]"
     ]
    },
    {
     "name": "stdout",
     "output_type": "stream",
     "text": [
      "Populating basket with european swaption # 21\n",
      "Completed meshgrid computation in 2.167403221130371 seconds\n"
     ]
    },
    {
     "name": "stderr",
     "output_type": "stream",
     "text": [
      "100%|██████████████████████████████████████████████████████████████████████████████████| 21/21 [09:05<00:00, 26.00s/it]\n"
     ]
    },
    {
     "name": "stdout",
     "output_type": "stream",
     "text": [
      "\n",
      "----------------------------------------------------------------\n",
      "       Finished accumulating basket of European swaptions!      \n",
      "----------------------------------------------------------------\n",
      "\n",
      "----------------------------------------------------------------\n",
      "*******************************************\n",
      "       QLBS Option Pricing (DP solution)      \n",
      "*******************************************\n",
      "\n",
      "Notional:                 100000000.0\n",
      "Forward time of underlying (yrs) 0.5\n",
      "Maturity of underlying (yrs): 10\n",
      "Tenor (payment) structure  every 180 (days)\n",
      "\n",
      "QLBS Bermudan Put Price:  1659743.6117\n",
      "QuantLib Bermudan Put Price:  1968788.1967\n",
      "Rel. error (to model):     -15.6972 %\n",
      "Rel. error (to notional):  0.3090 %\n",
      "----------------------------------------------------------------\n",
      "Time to build Term Structure objct = 31.880825519561768 seconds\n"
     ]
    },
    {
     "name": "stderr",
     "output_type": "stream",
     "text": [
      "\r",
      "  0%|                                                                                           | 0/11 [00:00<?, ?it/s]"
     ]
    },
    {
     "name": "stdout",
     "output_type": "stream",
     "text": [
      "Populating basket with european swaption # 1\n",
      "Completed meshgrid computation in 4.949054956436157 seconds\n"
     ]
    },
    {
     "name": "stderr",
     "output_type": "stream",
     "text": [
      "\r",
      "  9%|███████▌                                                                           | 1/11 [00:25<04:10, 25.02s/it]"
     ]
    },
    {
     "name": "stdout",
     "output_type": "stream",
     "text": [
      "Populating basket with european swaption # 2\n",
      "Completed meshgrid computation in 4.662839651107788 seconds\n"
     ]
    },
    {
     "name": "stderr",
     "output_type": "stream",
     "text": [
      "\r",
      " 18%|███████████████                                                                    | 2/11 [00:49<03:43, 24.86s/it]"
     ]
    },
    {
     "name": "stdout",
     "output_type": "stream",
     "text": [
      "Populating basket with european swaption # 3\n",
      "Completed meshgrid computation in 4.41309380531311 seconds\n"
     ]
    },
    {
     "name": "stderr",
     "output_type": "stream",
     "text": [
      "\r",
      " 27%|██████████████████████▋                                                            | 3/11 [01:14<03:16, 24.60s/it]"
     ]
    },
    {
     "name": "stdout",
     "output_type": "stream",
     "text": [
      "Populating basket with european swaption # 4\n",
      "Completed meshgrid computation in 4.06479287147522 seconds\n"
     ]
    },
    {
     "name": "stderr",
     "output_type": "stream",
     "text": [
      "\r",
      " 36%|██████████████████████████████▏                                                    | 4/11 [01:38<02:50, 24.37s/it]"
     ]
    },
    {
     "name": "stdout",
     "output_type": "stream",
     "text": [
      "Populating basket with european swaption # 5\n",
      "Completed meshgrid computation in 3.8069920539855957 seconds\n"
     ]
    },
    {
     "name": "stderr",
     "output_type": "stream",
     "text": [
      "\r",
      " 45%|█████████████████████████████████████▋                                             | 5/11 [02:01<02:24, 24.11s/it]"
     ]
    },
    {
     "name": "stdout",
     "output_type": "stream",
     "text": [
      "Populating basket with european swaption # 6\n",
      "Completed meshgrid computation in 3.514150381088257 seconds\n"
     ]
    },
    {
     "name": "stderr",
     "output_type": "stream",
     "text": [
      "\r",
      " 55%|█████████████████████████████████████████████▎                                     | 6/11 [02:25<01:59, 23.89s/it]"
     ]
    },
    {
     "name": "stdout",
     "output_type": "stream",
     "text": [
      "Populating basket with european swaption # 7\n",
      "Completed meshgrid computation in 3.227837324142456 seconds\n"
     ]
    },
    {
     "name": "stderr",
     "output_type": "stream",
     "text": [
      "\r",
      " 64%|████████████████████████████████████████████████████▊                              | 7/11 [02:48<01:34, 23.69s/it]"
     ]
    },
    {
     "name": "stdout",
     "output_type": "stream",
     "text": [
      "Populating basket with european swaption # 8\n",
      "Completed meshgrid computation in 2.919358015060425 seconds\n"
     ]
    },
    {
     "name": "stderr",
     "output_type": "stream",
     "text": [
      "\r",
      " 73%|████████████████████████████████████████████████████████████▎                      | 8/11 [03:11<01:10, 23.48s/it]"
     ]
    },
    {
     "name": "stdout",
     "output_type": "stream",
     "text": [
      "Populating basket with european swaption # 9\n",
      "Completed meshgrid computation in 2.686134099960327 seconds\n"
     ]
    },
    {
     "name": "stderr",
     "output_type": "stream",
     "text": [
      "\r",
      " 82%|███████████████████████████████████████████████████████████████████▉               | 9/11 [03:33<00:46, 23.16s/it]"
     ]
    },
    {
     "name": "stdout",
     "output_type": "stream",
     "text": [
      "Populating basket with european swaption # 10\n",
      "Completed meshgrid computation in 2.3825576305389404 seconds\n"
     ]
    },
    {
     "name": "stderr",
     "output_type": "stream",
     "text": [
      "\r",
      " 91%|██████████████████████████████████████████████████████████████████████████▌       | 10/11 [03:57<00:23, 23.43s/it]"
     ]
    },
    {
     "name": "stdout",
     "output_type": "stream",
     "text": [
      "Populating basket with european swaption # 11\n",
      "Completed meshgrid computation in 2.0958003997802734 seconds\n"
     ]
    },
    {
     "name": "stderr",
     "output_type": "stream",
     "text": [
      "100%|██████████████████████████████████████████████████████████████████████████████████| 11/11 [04:20<00:00, 23.66s/it]\n"
     ]
    },
    {
     "name": "stdout",
     "output_type": "stream",
     "text": [
      "\n",
      "----------------------------------------------------------------\n",
      "       Finished accumulating basket of European swaptions!      \n",
      "----------------------------------------------------------------\n",
      "\n",
      "----------------------------------------------------------------\n",
      "*******************************************\n",
      "       QLBS Option Pricing (DP solution)      \n",
      "*******************************************\n",
      "\n",
      "Notional:                 100000000.0\n",
      "Forward time of underlying (yrs) 1\n",
      "Maturity of underlying (yrs): 5\n",
      "Tenor (payment) structure  every 180 (days)\n",
      "\n",
      "QLBS Bermudan Put Price:  1444683.8069\n",
      "QuantLib Bermudan Put Price:  1683318.7333\n",
      "Rel. error (to model):     -14.1765 %\n",
      "Rel. error (to notional):  0.2386 %\n",
      "----------------------------------------------------------------\n",
      "Time to build Term Structure objct = 31.979878425598145 seconds\n"
     ]
    },
    {
     "name": "stderr",
     "output_type": "stream",
     "text": [
      "\r",
      "  0%|                                                                                           | 0/21 [00:00<?, ?it/s]"
     ]
    },
    {
     "name": "stdout",
     "output_type": "stream",
     "text": [
      "Populating basket with european swaption # 1\n",
      "Completed meshgrid computation in 7.727523326873779 seconds\n"
     ]
    },
    {
     "name": "stderr",
     "output_type": "stream",
     "text": [
      "\r",
      "  5%|███▉                                                                               | 1/21 [00:27<09:17, 27.85s/it]"
     ]
    },
    {
     "name": "stdout",
     "output_type": "stream",
     "text": [
      "Populating basket with european swaption # 2\n",
      "Completed meshgrid computation in 7.499638795852661 seconds\n"
     ]
    },
    {
     "name": "stderr",
     "output_type": "stream",
     "text": [
      "\r",
      " 10%|███████▉                                                                           | 2/21 [00:55<08:47, 27.76s/it]"
     ]
    },
    {
     "name": "stdout",
     "output_type": "stream",
     "text": [
      "Populating basket with european swaption # 3\n",
      "Completed meshgrid computation in 7.133368730545044 seconds\n"
     ]
    },
    {
     "name": "stderr",
     "output_type": "stream",
     "text": [
      "\r",
      " 14%|███████████▊                                                                       | 3/21 [01:22<08:15, 27.51s/it]"
     ]
    },
    {
     "name": "stdout",
     "output_type": "stream",
     "text": [
      "Populating basket with european swaption # 4\n",
      "Completed meshgrid computation in 6.822709083557129 seconds\n"
     ]
    },
    {
     "name": "stderr",
     "output_type": "stream",
     "text": [
      "\r",
      " 19%|███████████████▊                                                                   | 4/21 [01:49<07:44, 27.30s/it]"
     ]
    },
    {
     "name": "stdout",
     "output_type": "stream",
     "text": [
      "Populating basket with european swaption # 5\n",
      "Completed meshgrid computation in 6.5923261642456055 seconds\n"
     ]
    },
    {
     "name": "stderr",
     "output_type": "stream",
     "text": [
      "\r",
      " 24%|███████████████████▊                                                               | 5/21 [02:16<07:13, 27.12s/it]"
     ]
    },
    {
     "name": "stdout",
     "output_type": "stream",
     "text": [
      "Populating basket with european swaption # 6\n",
      "Completed meshgrid computation in 6.35347843170166 seconds\n"
     ]
    },
    {
     "name": "stderr",
     "output_type": "stream",
     "text": [
      "\r",
      " 29%|███████████████████████▋                                                           | 6/21 [02:43<06:43, 26.93s/it]"
     ]
    },
    {
     "name": "stdout",
     "output_type": "stream",
     "text": [
      "Populating basket with european swaption # 7\n",
      "Completed meshgrid computation in 6.115219354629517 seconds\n"
     ]
    },
    {
     "name": "stderr",
     "output_type": "stream",
     "text": [
      "\r",
      " 33%|███████████████████████████▋                                                       | 7/21 [03:09<06:13, 26.71s/it]"
     ]
    },
    {
     "name": "stdout",
     "output_type": "stream",
     "text": [
      "Populating basket with european swaption # 8\n",
      "Completed meshgrid computation in 5.752742767333984 seconds\n"
     ]
    },
    {
     "name": "stderr",
     "output_type": "stream",
     "text": [
      "\r",
      " 38%|███████████████████████████████▌                                                   | 8/21 [03:35<05:44, 26.52s/it]"
     ]
    },
    {
     "name": "stdout",
     "output_type": "stream",
     "text": [
      "Populating basket with european swaption # 9\n",
      "Completed meshgrid computation in 5.471914768218994 seconds\n"
     ]
    },
    {
     "name": "stderr",
     "output_type": "stream",
     "text": [
      "\r",
      " 43%|███████████████████████████████████▌                                               | 9/21 [04:00<05:14, 26.18s/it]"
     ]
    },
    {
     "name": "stdout",
     "output_type": "stream",
     "text": [
      "Populating basket with european swaption # 10\n",
      "Completed meshgrid computation in 5.257480144500732 seconds\n"
     ]
    },
    {
     "name": "stderr",
     "output_type": "stream",
     "text": [
      "\r",
      " 48%|███████████████████████████████████████                                           | 10/21 [04:26<04:45, 25.91s/it]"
     ]
    },
    {
     "name": "stdout",
     "output_type": "stream",
     "text": [
      "Populating basket with european swaption # 11\n",
      "Completed meshgrid computation in 4.953324794769287 seconds\n"
     ]
    },
    {
     "name": "stderr",
     "output_type": "stream",
     "text": [
      "\r",
      " 52%|██████████████████████████████████████████▉                                       | 11/21 [04:51<04:18, 25.80s/it]"
     ]
    },
    {
     "name": "stdout",
     "output_type": "stream",
     "text": [
      "Populating basket with european swaption # 12\n",
      "Completed meshgrid computation in 4.647721290588379 seconds\n"
     ]
    },
    {
     "name": "stderr",
     "output_type": "stream",
     "text": [
      "\r",
      " 57%|██████████████████████████████████████████████▊                                   | 12/21 [05:16<03:49, 25.48s/it]"
     ]
    },
    {
     "name": "stdout",
     "output_type": "stream",
     "text": [
      "Populating basket with european swaption # 13\n",
      "Completed meshgrid computation in 4.29559326171875 seconds\n"
     ]
    },
    {
     "name": "stderr",
     "output_type": "stream",
     "text": [
      "\r",
      " 62%|██████████████████████████████████████████████████▊                               | 13/21 [05:40<03:20, 25.10s/it]"
     ]
    },
    {
     "name": "stdout",
     "output_type": "stream",
     "text": [
      "Populating basket with european swaption # 14\n",
      "Completed meshgrid computation in 4.098043203353882 seconds\n"
     ]
    },
    {
     "name": "stderr",
     "output_type": "stream",
     "text": [
      "\r",
      " 67%|██████████████████████████████████████████████████████▋                           | 14/21 [06:04<02:53, 24.82s/it]"
     ]
    },
    {
     "name": "stdout",
     "output_type": "stream",
     "text": [
      "Populating basket with european swaption # 15\n",
      "Completed meshgrid computation in 3.7838783264160156 seconds\n"
     ]
    },
    {
     "name": "stderr",
     "output_type": "stream",
     "text": [
      "\r",
      " 71%|██████████████████████████████████████████████████████████▌                       | 15/21 [06:28<02:27, 24.53s/it]"
     ]
    },
    {
     "name": "stdout",
     "output_type": "stream",
     "text": [
      "Populating basket with european swaption # 16\n",
      "Completed meshgrid computation in 3.492628574371338 seconds\n"
     ]
    },
    {
     "name": "stderr",
     "output_type": "stream",
     "text": [
      "\r",
      " 76%|██████████████████████████████████████████████████████████████▍                   | 16/21 [06:52<02:00, 24.19s/it]"
     ]
    },
    {
     "name": "stdout",
     "output_type": "stream",
     "text": [
      "Populating basket with european swaption # 17\n",
      "Completed meshgrid computation in 3.232353448867798 seconds\n"
     ]
    },
    {
     "name": "stderr",
     "output_type": "stream",
     "text": [
      "\r",
      " 81%|██████████████████████████████████████████████████████████████████▍               | 17/21 [07:15<01:35, 23.91s/it]"
     ]
    },
    {
     "name": "stdout",
     "output_type": "stream",
     "text": [
      "Populating basket with european swaption # 18\n",
      "Completed meshgrid computation in 2.9520957469940186 seconds\n"
     ]
    },
    {
     "name": "stderr",
     "output_type": "stream",
     "text": [
      "\r",
      " 86%|██████████████████████████████████████████████████████████████████████▎           | 18/21 [07:38<01:10, 23.65s/it]"
     ]
    },
    {
     "name": "stdout",
     "output_type": "stream",
     "text": [
      "Populating basket with european swaption # 19\n",
      "Completed meshgrid computation in 2.6269419193267822 seconds\n"
     ]
    },
    {
     "name": "stderr",
     "output_type": "stream",
     "text": [
      "\r",
      " 90%|██████████████████████████████████████████████████████████████████████████▏       | 19/21 [08:01<00:46, 23.35s/it]"
     ]
    },
    {
     "name": "stdout",
     "output_type": "stream",
     "text": [
      "Populating basket with european swaption # 20\n",
      "Completed meshgrid computation in 2.3317959308624268 seconds\n"
     ]
    },
    {
     "name": "stderr",
     "output_type": "stream",
     "text": [
      "\r",
      " 95%|██████████████████████████████████████████████████████████████████████████████    | 20/21 [08:23<00:22, 22.98s/it]"
     ]
    },
    {
     "name": "stdout",
     "output_type": "stream",
     "text": [
      "Populating basket with european swaption # 21\n",
      "Completed meshgrid computation in 2.093402147293091 seconds\n"
     ]
    },
    {
     "name": "stderr",
     "output_type": "stream",
     "text": [
      "100%|██████████████████████████████████████████████████████████████████████████████████| 21/21 [08:45<00:00, 25.01s/it]\n"
     ]
    },
    {
     "name": "stdout",
     "output_type": "stream",
     "text": [
      "\n",
      "----------------------------------------------------------------\n",
      "       Finished accumulating basket of European swaptions!      \n",
      "----------------------------------------------------------------\n",
      "\n",
      "----------------------------------------------------------------\n",
      "*******************************************\n",
      "       QLBS Option Pricing (DP solution)      \n",
      "*******************************************\n",
      "\n",
      "Notional:                 100000000.0\n",
      "Forward time of underlying (yrs) 1\n",
      "Maturity of underlying (yrs): 10\n",
      "Tenor (payment) structure  every 180 (days)\n",
      "\n",
      "QLBS Bermudan Put Price:  2280921.2336\n",
      "QuantLib Bermudan Put Price:  2944352.4979\n",
      "Rel. error (to model):     -22.5323 %\n",
      "Rel. error (to notional):  0.6634 %\n",
      "----------------------------------------------------------------\n",
      "Time to build Term Structure objct = 31.799007415771484 seconds\n"
     ]
    },
    {
     "name": "stderr",
     "output_type": "stream",
     "text": [
      "\r",
      "  0%|                                                                                           | 0/11 [00:00<?, ?it/s]"
     ]
    },
    {
     "name": "stdout",
     "output_type": "stream",
     "text": [
      "Populating basket with european swaption # 1\n",
      "Completed meshgrid computation in 4.947803974151611 seconds\n"
     ]
    },
    {
     "name": "stderr",
     "output_type": "stream",
     "text": [
      "\r",
      "  9%|███████▌                                                                           | 1/11 [00:25<04:12, 25.30s/it]"
     ]
    },
    {
     "name": "stdout",
     "output_type": "stream",
     "text": [
      "Populating basket with european swaption # 2\n",
      "Completed meshgrid computation in 4.635574817657471 seconds\n"
     ]
    },
    {
     "name": "stderr",
     "output_type": "stream",
     "text": [
      "\r",
      " 18%|███████████████                                                                    | 2/11 [00:49<03:44, 24.92s/it]"
     ]
    },
    {
     "name": "stdout",
     "output_type": "stream",
     "text": [
      "Populating basket with european swaption # 3\n",
      "Completed meshgrid computation in 4.3802571296691895 seconds\n"
     ]
    },
    {
     "name": "stderr",
     "output_type": "stream",
     "text": [
      "\r",
      " 27%|██████████████████████▋                                                            | 3/11 [01:14<03:17, 24.67s/it]"
     ]
    },
    {
     "name": "stdout",
     "output_type": "stream",
     "text": [
      "Populating basket with european swaption # 4\n",
      "Completed meshgrid computation in 4.079092979431152 seconds\n"
     ]
    },
    {
     "name": "stderr",
     "output_type": "stream",
     "text": [
      "\r",
      " 36%|██████████████████████████████▏                                                    | 4/11 [01:38<02:51, 24.48s/it]"
     ]
    },
    {
     "name": "stdout",
     "output_type": "stream",
     "text": [
      "Populating basket with european swaption # 5\n",
      "Completed meshgrid computation in 3.7898666858673096 seconds\n"
     ]
    },
    {
     "name": "stderr",
     "output_type": "stream",
     "text": [
      "\r",
      " 45%|█████████████████████████████████████▋                                             | 5/11 [02:02<02:26, 24.38s/it]"
     ]
    },
    {
     "name": "stdout",
     "output_type": "stream",
     "text": [
      "Populating basket with european swaption # 6\n",
      "Completed meshgrid computation in 3.507615566253662 seconds\n"
     ]
    },
    {
     "name": "stderr",
     "output_type": "stream",
     "text": [
      "\r",
      " 55%|█████████████████████████████████████████████▎                                     | 6/11 [02:26<02:00, 24.05s/it]"
     ]
    },
    {
     "name": "stdout",
     "output_type": "stream",
     "text": [
      "Populating basket with european swaption # 7\n",
      "Completed meshgrid computation in 3.189450263977051 seconds\n"
     ]
    },
    {
     "name": "stderr",
     "output_type": "stream",
     "text": [
      "\r",
      " 64%|████████████████████████████████████████████████████▊                              | 7/11 [02:49<01:34, 23.72s/it]"
     ]
    },
    {
     "name": "stdout",
     "output_type": "stream",
     "text": [
      "Populating basket with european swaption # 8\n",
      "Completed meshgrid computation in 2.8792710304260254 seconds\n"
     ]
    },
    {
     "name": "stderr",
     "output_type": "stream",
     "text": [
      "\r",
      " 73%|████████████████████████████████████████████████████████████▎                      | 8/11 [03:11<01:10, 23.42s/it]"
     ]
    },
    {
     "name": "stdout",
     "output_type": "stream",
     "text": [
      "Populating basket with european swaption # 9\n",
      "Completed meshgrid computation in 2.633958339691162 seconds\n"
     ]
    },
    {
     "name": "stderr",
     "output_type": "stream",
     "text": [
      "\r",
      " 82%|███████████████████████████████████████████████████████████████████▉               | 9/11 [03:34<00:46, 23.19s/it]"
     ]
    },
    {
     "name": "stdout",
     "output_type": "stream",
     "text": [
      "Populating basket with european swaption # 10\n",
      "Completed meshgrid computation in 2.335756778717041 seconds\n"
     ]
    },
    {
     "name": "stderr",
     "output_type": "stream",
     "text": [
      "\r",
      " 91%|██████████████████████████████████████████████████████████████████████████▌       | 10/11 [03:56<00:22, 22.91s/it]"
     ]
    },
    {
     "name": "stdout",
     "output_type": "stream",
     "text": [
      "Populating basket with european swaption # 11\n",
      "Completed meshgrid computation in 2.0615193843841553 seconds\n"
     ]
    },
    {
     "name": "stderr",
     "output_type": "stream",
     "text": [
      "100%|██████████████████████████████████████████████████████████████████████████████████| 11/11 [04:18<00:00, 23.54s/it]\n"
     ]
    },
    {
     "name": "stdout",
     "output_type": "stream",
     "text": [
      "\n",
      "----------------------------------------------------------------\n",
      "       Finished accumulating basket of European swaptions!      \n",
      "----------------------------------------------------------------\n",
      "\n",
      "----------------------------------------------------------------\n",
      "*******************************************\n",
      "       QLBS Option Pricing (DP solution)      \n",
      "*******************************************\n",
      "\n",
      "Notional:                 100000000.0\n",
      "Forward time of underlying (yrs) 2\n",
      "Maturity of underlying (yrs): 5\n",
      "Tenor (payment) structure  every 180 (days)\n",
      "\n",
      "QLBS Bermudan Put Price:  2052863.2874\n",
      "QuantLib Bermudan Put Price:  2320558.7372\n",
      "Rel. error (to model):     -11.5358 %\n",
      "Rel. error (to notional):  0.2677 %\n",
      "----------------------------------------------------------------\n",
      "Time to build Term Structure objct = 31.700283765792847 seconds\n"
     ]
    },
    {
     "name": "stderr",
     "output_type": "stream",
     "text": [
      "\r",
      "  0%|                                                                                           | 0/21 [00:00<?, ?it/s]"
     ]
    },
    {
     "name": "stdout",
     "output_type": "stream",
     "text": [
      "Populating basket with european swaption # 1\n",
      "Completed meshgrid computation in 7.8061277866363525 seconds\n"
     ]
    },
    {
     "name": "stderr",
     "output_type": "stream",
     "text": [
      "\r",
      "  5%|███▉                                                                               | 1/21 [00:28<09:23, 28.19s/it]"
     ]
    },
    {
     "name": "stdout",
     "output_type": "stream",
     "text": [
      "Populating basket with european swaption # 2\n",
      "Completed meshgrid computation in 7.453073263168335 seconds\n"
     ]
    },
    {
     "name": "stderr",
     "output_type": "stream",
     "text": [
      "\r",
      " 10%|███████▉                                                                           | 2/21 [00:55<08:49, 27.86s/it]"
     ]
    },
    {
     "name": "stdout",
     "output_type": "stream",
     "text": [
      "Populating basket with european swaption # 3\n",
      "Completed meshgrid computation in 7.172821283340454 seconds\n"
     ]
    },
    {
     "name": "stderr",
     "output_type": "stream",
     "text": [
      "\r",
      " 14%|███████████▊                                                                       | 3/21 [01:22<08:15, 27.55s/it]"
     ]
    },
    {
     "name": "stdout",
     "output_type": "stream",
     "text": [
      "Populating basket with european swaption # 4\n",
      "Completed meshgrid computation in 6.8846235275268555 seconds\n"
     ]
    },
    {
     "name": "stderr",
     "output_type": "stream",
     "text": [
      "\r",
      " 19%|███████████████▊                                                                   | 4/21 [01:50<07:45, 27.36s/it]"
     ]
    },
    {
     "name": "stdout",
     "output_type": "stream",
     "text": [
      "Populating basket with european swaption # 5\n",
      "Completed meshgrid computation in 6.695099115371704 seconds\n"
     ]
    },
    {
     "name": "stderr",
     "output_type": "stream",
     "text": [
      "\r",
      " 24%|███████████████████▊                                                               | 5/21 [02:17<07:15, 27.25s/it]"
     ]
    },
    {
     "name": "stdout",
     "output_type": "stream",
     "text": [
      "Populating basket with european swaption # 6\n",
      "Completed meshgrid computation in 6.460694074630737 seconds\n"
     ]
    },
    {
     "name": "stderr",
     "output_type": "stream",
     "text": [
      "\r",
      " 29%|███████████████████████▋                                                           | 6/21 [02:43<06:45, 27.03s/it]"
     ]
    },
    {
     "name": "stdout",
     "output_type": "stream",
     "text": [
      "Populating basket with european swaption # 7\n",
      "Completed meshgrid computation in 6.077717304229736 seconds\n"
     ]
    },
    {
     "name": "stderr",
     "output_type": "stream",
     "text": [
      "\r",
      " 33%|███████████████████████████▋                                                       | 7/21 [03:09<06:14, 26.73s/it]"
     ]
    },
    {
     "name": "stdout",
     "output_type": "stream",
     "text": [
      "Populating basket with european swaption # 8\n",
      "Completed meshgrid computation in 5.861358404159546 seconds\n"
     ]
    },
    {
     "name": "stderr",
     "output_type": "stream",
     "text": [
      "\r",
      " 38%|███████████████████████████████▌                                                   | 8/21 [03:36<05:45, 26.56s/it]"
     ]
    },
    {
     "name": "stdout",
     "output_type": "stream",
     "text": [
      "Populating basket with european swaption # 9\n",
      "Completed meshgrid computation in 5.51824426651001 seconds\n"
     ]
    },
    {
     "name": "stderr",
     "output_type": "stream",
     "text": [
      "\r",
      " 43%|███████████████████████████████████▌                                               | 9/21 [04:01<05:15, 26.29s/it]"
     ]
    },
    {
     "name": "stdout",
     "output_type": "stream",
     "text": [
      "Populating basket with european swaption # 10\n",
      "Completed meshgrid computation in 5.288857936859131 seconds\n"
     ]
    },
    {
     "name": "stderr",
     "output_type": "stream",
     "text": [
      "\r",
      " 48%|███████████████████████████████████████                                           | 10/21 [04:27<04:46, 26.06s/it]"
     ]
    },
    {
     "name": "stdout",
     "output_type": "stream",
     "text": [
      "Populating basket with european swaption # 11\n",
      "Completed meshgrid computation in 4.993647336959839 seconds\n"
     ]
    },
    {
     "name": "stderr",
     "output_type": "stream",
     "text": [
      "\r",
      " 52%|██████████████████████████████████████████▉                                       | 11/21 [04:52<04:17, 25.76s/it]"
     ]
    },
    {
     "name": "stdout",
     "output_type": "stream",
     "text": [
      "Populating basket with european swaption # 12\n",
      "Completed meshgrid computation in 4.625632047653198 seconds\n"
     ]
    },
    {
     "name": "stderr",
     "output_type": "stream",
     "text": [
      "\r",
      " 57%|██████████████████████████████████████████████▊                                   | 12/21 [05:17<03:49, 25.47s/it]"
     ]
    },
    {
     "name": "stdout",
     "output_type": "stream",
     "text": [
      "Populating basket with european swaption # 13\n",
      "Completed meshgrid computation in 4.379282236099243 seconds\n"
     ]
    },
    {
     "name": "stderr",
     "output_type": "stream",
     "text": [
      "\r",
      " 62%|██████████████████████████████████████████████████▊                               | 13/21 [05:41<03:21, 25.18s/it]"
     ]
    },
    {
     "name": "stdout",
     "output_type": "stream",
     "text": [
      "Populating basket with european swaption # 14\n",
      "Completed meshgrid computation in 4.0651326179504395 seconds\n"
     ]
    },
    {
     "name": "stderr",
     "output_type": "stream",
     "text": [
      "\r",
      " 67%|██████████████████████████████████████████████████████▋                           | 14/21 [06:05<02:54, 24.89s/it]"
     ]
    },
    {
     "name": "stdout",
     "output_type": "stream",
     "text": [
      "Populating basket with european swaption # 15\n",
      "Completed meshgrid computation in 3.7828569412231445 seconds\n"
     ]
    },
    {
     "name": "stderr",
     "output_type": "stream",
     "text": [
      "\r",
      " 71%|██████████████████████████████████████████████████████████▌                       | 15/21 [06:29<02:27, 24.60s/it]"
     ]
    },
    {
     "name": "stdout",
     "output_type": "stream",
     "text": [
      "Populating basket with european swaption # 16\n",
      "Completed meshgrid computation in 3.5156028270721436 seconds\n"
     ]
    },
    {
     "name": "stderr",
     "output_type": "stream",
     "text": [
      "\r",
      " 76%|██████████████████████████████████████████████████████████████▍                   | 16/21 [06:53<02:01, 24.32s/it]"
     ]
    },
    {
     "name": "stdout",
     "output_type": "stream",
     "text": [
      "Populating basket with european swaption # 17\n",
      "Completed meshgrid computation in 3.231328010559082 seconds\n"
     ]
    },
    {
     "name": "stderr",
     "output_type": "stream",
     "text": [
      "\r",
      " 81%|██████████████████████████████████████████████████████████████████▍               | 17/21 [07:16<01:35, 23.96s/it]"
     ]
    },
    {
     "name": "stdout",
     "output_type": "stream",
     "text": [
      "Populating basket with european swaption # 18\n",
      "Completed meshgrid computation in 2.958059549331665 seconds\n"
     ]
    },
    {
     "name": "stderr",
     "output_type": "stream",
     "text": [
      "\r",
      " 86%|██████████████████████████████████████████████████████████████████████▎           | 18/21 [07:39<01:10, 23.66s/it]"
     ]
    },
    {
     "name": "stdout",
     "output_type": "stream",
     "text": [
      "Populating basket with european swaption # 19\n",
      "Completed meshgrid computation in 2.648916482925415 seconds\n"
     ]
    },
    {
     "name": "stderr",
     "output_type": "stream",
     "text": [
      "\r",
      " 90%|██████████████████████████████████████████████████████████████████████████▏       | 19/21 [08:02<00:46, 23.39s/it]"
     ]
    },
    {
     "name": "stdout",
     "output_type": "stream",
     "text": [
      "Populating basket with european swaption # 20\n",
      "Completed meshgrid computation in 2.3417367935180664 seconds\n"
     ]
    },
    {
     "name": "stderr",
     "output_type": "stream",
     "text": [
      "\r",
      " 95%|██████████████████████████████████████████████████████████████████████████████    | 20/21 [08:24<00:23, 23.04s/it]"
     ]
    },
    {
     "name": "stdout",
     "output_type": "stream",
     "text": [
      "Populating basket with european swaption # 21\n",
      "Completed meshgrid computation in 2.087448835372925 seconds\n"
     ]
    },
    {
     "name": "stderr",
     "output_type": "stream",
     "text": [
      "100%|██████████████████████████████████████████████████████████████████████████████████| 21/21 [08:46<00:00, 25.08s/it]\n"
     ]
    },
    {
     "name": "stdout",
     "output_type": "stream",
     "text": [
      "\n",
      "----------------------------------------------------------------\n",
      "       Finished accumulating basket of European swaptions!      \n",
      "----------------------------------------------------------------\n",
      "\n",
      "----------------------------------------------------------------\n",
      "*******************************************\n",
      "       QLBS Option Pricing (DP solution)      \n",
      "*******************************************\n",
      "\n",
      "Notional:                 100000000.0\n",
      "Forward time of underlying (yrs) 2\n",
      "Maturity of underlying (yrs): 10\n",
      "Tenor (payment) structure  every 180 (days)\n",
      "\n",
      "QLBS Bermudan Put Price:  3241048.7742\n",
      "QuantLib Bermudan Put Price:  4093499.6893\n",
      "Rel. error (to model):     -20.8245 %\n",
      "Rel. error (to notional):  0.8525 %\n",
      "----------------------------------------------------------------\n",
      "Time to build Term Structure objct = 31.468382358551025 seconds\n"
     ]
    },
    {
     "name": "stderr",
     "output_type": "stream",
     "text": [
      "\r",
      "  0%|                                                                                           | 0/11 [00:00<?, ?it/s]"
     ]
    },
    {
     "name": "stdout",
     "output_type": "stream",
     "text": [
      "Populating basket with european swaption # 1\n",
      "Completed meshgrid computation in 4.90888786315918 seconds\n"
     ]
    },
    {
     "name": "stderr",
     "output_type": "stream",
     "text": [
      "\r",
      "  9%|███████▌                                                                           | 1/11 [00:25<04:10, 25.09s/it]"
     ]
    },
    {
     "name": "stdout",
     "output_type": "stream",
     "text": [
      "Populating basket with european swaption # 2\n",
      "Completed meshgrid computation in 4.741323232650757 seconds\n"
     ]
    },
    {
     "name": "stderr",
     "output_type": "stream",
     "text": [
      "\r",
      " 18%|███████████████                                                                    | 2/11 [00:49<03:43, 24.88s/it]"
     ]
    },
    {
     "name": "stdout",
     "output_type": "stream",
     "text": [
      "Populating basket with european swaption # 3\n",
      "Completed meshgrid computation in 4.3503358364105225 seconds\n"
     ]
    },
    {
     "name": "stderr",
     "output_type": "stream",
     "text": [
      "\r",
      " 27%|██████████████████████▋                                                            | 3/11 [01:14<03:17, 24.70s/it]"
     ]
    },
    {
     "name": "stdout",
     "output_type": "stream",
     "text": [
      "Populating basket with european swaption # 4\n",
      "Completed meshgrid computation in 4.071080446243286 seconds\n"
     ]
    },
    {
     "name": "stderr",
     "output_type": "stream",
     "text": [
      "\r",
      " 36%|██████████████████████████████▏                                                    | 4/11 [01:38<02:51, 24.48s/it]"
     ]
    },
    {
     "name": "stdout",
     "output_type": "stream",
     "text": [
      "Populating basket with european swaption # 5\n",
      "Completed meshgrid computation in 3.793855667114258 seconds\n"
     ]
    },
    {
     "name": "stderr",
     "output_type": "stream",
     "text": [
      "\r",
      " 45%|█████████████████████████████████████▋                                             | 5/11 [02:02<02:25, 24.25s/it]"
     ]
    },
    {
     "name": "stdout",
     "output_type": "stream",
     "text": [
      "Populating basket with european swaption # 6\n",
      "Completed meshgrid computation in 3.4996414184570312 seconds\n"
     ]
    },
    {
     "name": "stderr",
     "output_type": "stream",
     "text": [
      "\r",
      " 55%|█████████████████████████████████████████████▎                                     | 6/11 [02:26<02:01, 24.35s/it]"
     ]
    },
    {
     "name": "stdout",
     "output_type": "stream",
     "text": [
      "Populating basket with european swaption # 7\n",
      "Completed meshgrid computation in 3.2004101276397705 seconds\n"
     ]
    },
    {
     "name": "stderr",
     "output_type": "stream",
     "text": [
      "\r",
      " 64%|████████████████████████████████████████████████████▊                              | 7/11 [02:49<01:35, 23.90s/it]"
     ]
    },
    {
     "name": "stdout",
     "output_type": "stream",
     "text": [
      "Populating basket with european swaption # 8\n",
      "Completed meshgrid computation in 2.9471192359924316 seconds\n"
     ]
    },
    {
     "name": "stderr",
     "output_type": "stream",
     "text": [
      "\r",
      " 73%|████████████████████████████████████████████████████████████▎                      | 8/11 [03:12<01:10, 23.62s/it]"
     ]
    },
    {
     "name": "stdout",
     "output_type": "stream",
     "text": [
      "Populating basket with european swaption # 9\n",
      "Completed meshgrid computation in 2.611051321029663 seconds\n"
     ]
    },
    {
     "name": "stderr",
     "output_type": "stream",
     "text": [
      "\r",
      " 82%|███████████████████████████████████████████████████████████████████▉               | 9/11 [03:35<00:46, 23.30s/it]"
     ]
    },
    {
     "name": "stdout",
     "output_type": "stream",
     "text": [
      "Populating basket with european swaption # 10\n",
      "Completed meshgrid computation in 2.3706605434417725 seconds\n"
     ]
    },
    {
     "name": "stderr",
     "output_type": "stream",
     "text": [
      "\r",
      " 91%|██████████████████████████████████████████████████████████████████████████▌       | 10/11 [03:57<00:22, 22.97s/it]"
     ]
    },
    {
     "name": "stdout",
     "output_type": "stream",
     "text": [
      "Populating basket with european swaption # 11\n",
      "Completed meshgrid computation in 2.195164203643799 seconds\n"
     ]
    },
    {
     "name": "stderr",
     "output_type": "stream",
     "text": [
      "100%|██████████████████████████████████████████████████████████████████████████████████| 11/11 [04:20<00:00, 23.65s/it]\n"
     ]
    },
    {
     "name": "stdout",
     "output_type": "stream",
     "text": [
      "\n",
      "----------------------------------------------------------------\n",
      "       Finished accumulating basket of European swaptions!      \n",
      "----------------------------------------------------------------\n",
      "\n",
      "----------------------------------------------------------------\n",
      "*******************************************\n",
      "       QLBS Option Pricing (DP solution)      \n",
      "*******************************************\n",
      "\n",
      "Notional:                 100000000.0\n",
      "Forward time of underlying (yrs) 5\n",
      "Maturity of underlying (yrs): 5\n",
      "Tenor (payment) structure  every 180 (days)\n",
      "\n",
      "QLBS Bermudan Put Price:  2963142.1136\n",
      "QuantLib Bermudan Put Price:  3176105.0068\n",
      "Rel. error (to model):     -6.7052 %\n",
      "Rel. error (to notional):  0.2130 %\n",
      "----------------------------------------------------------------\n",
      "Time to build Term Structure objct = 31.575570106506348 seconds\n"
     ]
    },
    {
     "name": "stderr",
     "output_type": "stream",
     "text": [
      "\r",
      "  0%|                                                                                           | 0/21 [00:00<?, ?it/s]"
     ]
    },
    {
     "name": "stdout",
     "output_type": "stream",
     "text": [
      "Populating basket with european swaption # 1\n",
      "Completed meshgrid computation in 7.749267816543579 seconds\n"
     ]
    },
    {
     "name": "stderr",
     "output_type": "stream",
     "text": [
      "\r",
      "  5%|███▉                                                                               | 1/21 [00:28<09:20, 28.03s/it]"
     ]
    },
    {
     "name": "stdout",
     "output_type": "stream",
     "text": [
      "Populating basket with european swaption # 2\n",
      "Completed meshgrid computation in 7.450047016143799 seconds\n"
     ]
    },
    {
     "name": "stderr",
     "output_type": "stream",
     "text": [
      "\r",
      " 10%|███████▉                                                                           | 2/21 [00:55<08:51, 27.96s/it]"
     ]
    },
    {
     "name": "stdout",
     "output_type": "stream",
     "text": [
      "Populating basket with european swaption # 3\n",
      "Completed meshgrid computation in 7.2316625118255615 seconds\n"
     ]
    },
    {
     "name": "stderr",
     "output_type": "stream",
     "text": [
      "\r",
      " 14%|███████████▊                                                                       | 3/21 [01:23<08:20, 27.80s/it]"
     ]
    },
    {
     "name": "stdout",
     "output_type": "stream",
     "text": [
      "Populating basket with european swaption # 4\n",
      "Completed meshgrid computation in 6.9623799324035645 seconds\n"
     ]
    },
    {
     "name": "stderr",
     "output_type": "stream",
     "text": [
      "\r",
      " 19%|███████████████▊                                                                   | 4/21 [01:50<07:48, 27.54s/it]"
     ]
    },
    {
     "name": "stdout",
     "output_type": "stream",
     "text": [
      "Populating basket with european swaption # 5\n",
      "Completed meshgrid computation in 6.58139181137085 seconds\n"
     ]
    },
    {
     "name": "stderr",
     "output_type": "stream",
     "text": [
      "\r",
      " 24%|███████████████████▊                                                               | 5/21 [02:17<07:16, 27.28s/it]"
     ]
    },
    {
     "name": "stdout",
     "output_type": "stream",
     "text": [
      "Populating basket with european swaption # 6\n",
      "Completed meshgrid computation in 6.348023414611816 seconds\n"
     ]
    },
    {
     "name": "stderr",
     "output_type": "stream",
     "text": [
      "\r",
      " 29%|███████████████████████▋                                                           | 6/21 [02:44<06:45, 27.03s/it]"
     ]
    },
    {
     "name": "stdout",
     "output_type": "stream",
     "text": [
      "Populating basket with european swaption # 7\n",
      "Completed meshgrid computation in 6.159528493881226 seconds\n"
     ]
    },
    {
     "name": "stderr",
     "output_type": "stream",
     "text": [
      "\r",
      " 33%|███████████████████████████▋                                                       | 7/21 [03:10<06:15, 26.83s/it]"
     ]
    },
    {
     "name": "stdout",
     "output_type": "stream",
     "text": [
      "Populating basket with european swaption # 8\n",
      "Completed meshgrid computation in 5.834401369094849 seconds\n"
     ]
    },
    {
     "name": "stderr",
     "output_type": "stream",
     "text": [
      "\r",
      " 38%|███████████████████████████████▌                                                   | 8/21 [03:36<05:45, 26.57s/it]"
     ]
    },
    {
     "name": "stdout",
     "output_type": "stream",
     "text": [
      "Populating basket with european swaption # 9\n",
      "Completed meshgrid computation in 5.470402002334595 seconds\n"
     ]
    },
    {
     "name": "stderr",
     "output_type": "stream",
     "text": [
      "\r",
      " 43%|███████████████████████████████████▌                                               | 9/21 [04:02<05:17, 26.45s/it]"
     ]
    },
    {
     "name": "stdout",
     "output_type": "stream",
     "text": [
      "Populating basket with european swaption # 10\n",
      "Completed meshgrid computation in 5.488322734832764 seconds\n"
     ]
    },
    {
     "name": "stderr",
     "output_type": "stream",
     "text": [
      "\r",
      " 48%|███████████████████████████████████████                                           | 10/21 [04:28<04:48, 26.20s/it]"
     ]
    },
    {
     "name": "stdout",
     "output_type": "stream",
     "text": [
      "Populating basket with european swaption # 11\n",
      "Completed meshgrid computation in 4.934802055358887 seconds\n"
     ]
    },
    {
     "name": "stderr",
     "output_type": "stream",
     "text": [
      "\r",
      " 52%|██████████████████████████████████████████▉                                       | 11/21 [04:53<04:19, 25.96s/it]"
     ]
    },
    {
     "name": "stdout",
     "output_type": "stream",
     "text": [
      "Populating basket with european swaption # 12\n",
      "Completed meshgrid computation in 4.617652416229248 seconds\n"
     ]
    },
    {
     "name": "stderr",
     "output_type": "stream",
     "text": [
      "\r",
      " 57%|██████████████████████████████████████████████▊                                   | 12/21 [05:18<03:50, 25.56s/it]"
     ]
    },
    {
     "name": "stdout",
     "output_type": "stream",
     "text": [
      "Populating basket with european swaption # 13\n",
      "Completed meshgrid computation in 4.387301921844482 seconds\n"
     ]
    },
    {
     "name": "stderr",
     "output_type": "stream",
     "text": [
      "\r",
      " 62%|██████████████████████████████████████████████████▊                               | 13/21 [05:42<03:21, 25.22s/it]"
     ]
    },
    {
     "name": "stdout",
     "output_type": "stream",
     "text": [
      "Populating basket with european swaption # 14\n",
      "Completed meshgrid computation in 4.15588903427124 seconds\n"
     ]
    },
    {
     "name": "stderr",
     "output_type": "stream",
     "text": [
      "\r",
      " 67%|██████████████████████████████████████████████████████▋                           | 14/21 [06:07<02:54, 24.95s/it]"
     ]
    },
    {
     "name": "stdout",
     "output_type": "stream",
     "text": [
      "Populating basket with european swaption # 15\n",
      "Completed meshgrid computation in 3.7808918952941895 seconds\n"
     ]
    },
    {
     "name": "stderr",
     "output_type": "stream",
     "text": [
      "\r",
      " 71%|██████████████████████████████████████████████████████████▌                       | 15/21 [06:30<02:27, 24.60s/it]"
     ]
    },
    {
     "name": "stdout",
     "output_type": "stream",
     "text": [
      "Populating basket with european swaption # 16\n",
      "Completed meshgrid computation in 3.4727163314819336 seconds\n"
     ]
    },
    {
     "name": "stderr",
     "output_type": "stream",
     "text": [
      "\r",
      " 76%|██████████████████████████████████████████████████████████████▍                   | 16/21 [06:54<02:01, 24.29s/it]"
     ]
    },
    {
     "name": "stdout",
     "output_type": "stream",
     "text": [
      "Populating basket with european swaption # 17\n",
      "Completed meshgrid computation in 3.2473175525665283 seconds\n"
     ]
    },
    {
     "name": "stderr",
     "output_type": "stream",
     "text": [
      "\r",
      " 81%|██████████████████████████████████████████████████████████████████▍               | 17/21 [07:17<01:35, 23.94s/it]"
     ]
    },
    {
     "name": "stdout",
     "output_type": "stream",
     "text": [
      "Populating basket with european swaption # 18\n",
      "Completed meshgrid computation in 2.9869813919067383 seconds\n"
     ]
    },
    {
     "name": "stderr",
     "output_type": "stream",
     "text": [
      "\r",
      " 86%|██████████████████████████████████████████████████████████████████████▎           | 18/21 [07:40<01:10, 23.62s/it]"
     ]
    },
    {
     "name": "stdout",
     "output_type": "stream",
     "text": [
      "Populating basket with european swaption # 19\n",
      "Completed meshgrid computation in 2.6329610347747803 seconds\n"
     ]
    },
    {
     "name": "stderr",
     "output_type": "stream",
     "text": [
      "\r",
      " 90%|██████████████████████████████████████████████████████████████████████████▏       | 19/21 [08:03<00:46, 23.39s/it]"
     ]
    },
    {
     "name": "stdout",
     "output_type": "stream",
     "text": [
      "Populating basket with european swaption # 20\n",
      "Completed meshgrid computation in 2.368666648864746 seconds\n"
     ]
    },
    {
     "name": "stderr",
     "output_type": "stream",
     "text": [
      "\r",
      " 95%|██████████████████████████████████████████████████████████████████████████████    | 20/21 [08:25<00:23, 23.13s/it]"
     ]
    },
    {
     "name": "stdout",
     "output_type": "stream",
     "text": [
      "Populating basket with european swaption # 21\n",
      "Completed meshgrid computation in 2.0814027786254883 seconds\n"
     ]
    },
    {
     "name": "stderr",
     "output_type": "stream",
     "text": [
      "100%|██████████████████████████████████████████████████████████████████████████████████| 21/21 [08:47<00:00, 25.14s/it]\n"
     ]
    },
    {
     "name": "stdout",
     "output_type": "stream",
     "text": [
      "\n",
      "----------------------------------------------------------------\n",
      "       Finished accumulating basket of European swaptions!      \n",
      "----------------------------------------------------------------\n",
      "\n",
      "----------------------------------------------------------------\n",
      "*******************************************\n",
      "       QLBS Option Pricing (DP solution)      \n",
      "*******************************************\n",
      "\n",
      "Notional:                 100000000.0\n",
      "Forward time of underlying (yrs) 5\n",
      "Maturity of underlying (yrs): 10\n",
      "Tenor (payment) structure  every 180 (days)\n",
      "\n",
      "QLBS Bermudan Put Price:  4721288.4244\n",
      "QuantLib Bermudan Put Price:  5640759.9786\n",
      "Rel. error (to model):     -16.3005 %\n",
      "Rel. error (to notional):  0.9195 %\n",
      "----------------------------------------------------------------\n",
      "Time to build Term Structure objct = 31.350341081619263 seconds\n"
     ]
    },
    {
     "name": "stderr",
     "output_type": "stream",
     "text": [
      "\r",
      "  0%|                                                                                           | 0/11 [00:00<?, ?it/s]"
     ]
    },
    {
     "name": "stdout",
     "output_type": "stream",
     "text": [
      "Populating basket with european swaption # 1\n",
      "Completed meshgrid computation in 4.830084323883057 seconds\n"
     ]
    },
    {
     "name": "stderr",
     "output_type": "stream",
     "text": [
      "\r",
      "  9%|███████▌                                                                           | 1/11 [00:25<04:10, 25.04s/it]"
     ]
    },
    {
     "name": "stdout",
     "output_type": "stream",
     "text": [
      "Populating basket with european swaption # 2\n",
      "Completed meshgrid computation in 4.657545804977417 seconds\n"
     ]
    },
    {
     "name": "stderr",
     "output_type": "stream",
     "text": [
      "\r",
      " 18%|███████████████                                                                    | 2/11 [00:49<03:44, 24.91s/it]"
     ]
    },
    {
     "name": "stdout",
     "output_type": "stream",
     "text": [
      "Populating basket with european swaption # 3\n",
      "Completed meshgrid computation in 4.3324456214904785 seconds\n"
     ]
    },
    {
     "name": "stderr",
     "output_type": "stream",
     "text": [
      "\r",
      " 27%|██████████████████████▋                                                            | 3/11 [01:14<03:17, 24.64s/it]"
     ]
    },
    {
     "name": "stdout",
     "output_type": "stream",
     "text": [
      "Populating basket with european swaption # 4\n",
      "Completed meshgrid computation in 4.021243333816528 seconds\n"
     ]
    },
    {
     "name": "stderr",
     "output_type": "stream",
     "text": [
      "\r",
      " 36%|██████████████████████████████▏                                                    | 4/11 [01:38<02:50, 24.41s/it]"
     ]
    },
    {
     "name": "stdout",
     "output_type": "stream",
     "text": [
      "Populating basket with european swaption # 5\n",
      "Completed meshgrid computation in 3.7669289112091064 seconds\n"
     ]
    },
    {
     "name": "stderr",
     "output_type": "stream",
     "text": [
      "\r",
      " 45%|█████████████████████████████████████▋                                             | 5/11 [02:01<02:24, 24.15s/it]"
     ]
    },
    {
     "name": "stdout",
     "output_type": "stream",
     "text": [
      "Populating basket with european swaption # 6\n",
      "Completed meshgrid computation in 3.533550262451172 seconds\n"
     ]
    },
    {
     "name": "stderr",
     "output_type": "stream",
     "text": [
      "\r",
      " 55%|█████████████████████████████████████████████▎                                     | 6/11 [02:25<01:59, 23.96s/it]"
     ]
    },
    {
     "name": "stdout",
     "output_type": "stream",
     "text": [
      "Populating basket with european swaption # 7\n",
      "Completed meshgrid computation in 3.2572925090789795 seconds\n"
     ]
    },
    {
     "name": "stderr",
     "output_type": "stream",
     "text": [
      "\r",
      " 64%|████████████████████████████████████████████████████▊                              | 7/11 [02:48<01:34, 23.66s/it]"
     ]
    },
    {
     "name": "stdout",
     "output_type": "stream",
     "text": [
      "Populating basket with european swaption # 8\n",
      "Completed meshgrid computation in 2.915205955505371 seconds\n"
     ]
    },
    {
     "name": "stderr",
     "output_type": "stream",
     "text": [
      "\r",
      " 73%|████████████████████████████████████████████████████████████▎                      | 8/11 [03:11<01:10, 23.42s/it]"
     ]
    },
    {
     "name": "stdout",
     "output_type": "stream",
     "text": [
      "Populating basket with european swaption # 9\n",
      "Completed meshgrid computation in 2.585094451904297 seconds\n"
     ]
    },
    {
     "name": "stderr",
     "output_type": "stream",
     "text": [
      "\r",
      " 82%|███████████████████████████████████████████████████████████████████▉               | 9/11 [03:34<00:46, 23.21s/it]"
     ]
    },
    {
     "name": "stdout",
     "output_type": "stream",
     "text": [
      "Populating basket with european swaption # 10\n",
      "Completed meshgrid computation in 2.3506827354431152 seconds\n"
     ]
    },
    {
     "name": "stderr",
     "output_type": "stream",
     "text": [
      "\r",
      " 91%|██████████████████████████████████████████████████████████████████████████▌       | 10/11 [03:56<00:22, 22.92s/it]"
     ]
    },
    {
     "name": "stdout",
     "output_type": "stream",
     "text": [
      "Populating basket with european swaption # 11\n",
      "Completed meshgrid computation in 2.079439878463745 seconds\n"
     ]
    },
    {
     "name": "stderr",
     "output_type": "stream",
     "text": [
      "100%|██████████████████████████████████████████████████████████████████████████████████| 11/11 [04:18<00:00, 23.51s/it]\n"
     ]
    },
    {
     "name": "stdout",
     "output_type": "stream",
     "text": [
      "\n",
      "----------------------------------------------------------------\n",
      "       Finished accumulating basket of European swaptions!      \n",
      "----------------------------------------------------------------\n",
      "\n",
      "----------------------------------------------------------------\n",
      "*******************************************\n",
      "       QLBS Option Pricing (DP solution)      \n",
      "*******************************************\n",
      "\n",
      "Notional:                 100000000.0\n",
      "Forward time of underlying (yrs) 10\n",
      "Maturity of underlying (yrs): 5\n",
      "Tenor (payment) structure  every 180 (days)\n",
      "\n",
      "QLBS Bermudan Put Price:  3455825.0468\n",
      "QuantLib Bermudan Put Price:  3523901.8503\n",
      "Rel. error (to model):     -1.9319 %\n",
      "Rel. error (to notional):  0.0681 %\n",
      "----------------------------------------------------------------\n",
      "Time to build Term Structure objct = 31.462035655975342 seconds\n"
     ]
    },
    {
     "name": "stderr",
     "output_type": "stream",
     "text": [
      "\r",
      "  0%|                                                                                           | 0/21 [00:00<?, ?it/s]"
     ]
    },
    {
     "name": "stdout",
     "output_type": "stream",
     "text": [
      "Populating basket with european swaption # 1\n",
      "Completed meshgrid computation in 7.817100286483765 seconds\n"
     ]
    },
    {
     "name": "stderr",
     "output_type": "stream",
     "text": [
      "\r",
      "  5%|███▉                                                                               | 1/21 [00:28<09:24, 28.23s/it]"
     ]
    },
    {
     "name": "stdout",
     "output_type": "stream",
     "text": [
      "Populating basket with european swaption # 2\n",
      "Completed meshgrid computation in 7.562776803970337 seconds\n"
     ]
    },
    {
     "name": "stderr",
     "output_type": "stream",
     "text": [
      "\r",
      " 10%|███████▉                                                                           | 2/21 [00:56<08:52, 28.03s/it]"
     ]
    },
    {
     "name": "stdout",
     "output_type": "stream",
     "text": [
      "Populating basket with european swaption # 3\n",
      "Completed meshgrid computation in 7.294497489929199 seconds\n"
     ]
    },
    {
     "name": "stderr",
     "output_type": "stream",
     "text": [
      "\r",
      " 14%|███████████▊                                                                       | 3/21 [01:23<08:21, 27.88s/it]"
     ]
    },
    {
     "name": "stdout",
     "output_type": "stream",
     "text": [
      "Populating basket with european swaption # 4\n",
      "Completed meshgrid computation in 6.951411485671997 seconds\n"
     ]
    },
    {
     "name": "stderr",
     "output_type": "stream",
     "text": [
      "\r",
      " 19%|███████████████▊                                                                   | 4/21 [01:51<07:49, 27.64s/it]"
     ]
    },
    {
     "name": "stdout",
     "output_type": "stream",
     "text": [
      "Populating basket with european swaption # 5\n",
      "Completed meshgrid computation in 6.725015163421631 seconds\n"
     ]
    },
    {
     "name": "stderr",
     "output_type": "stream",
     "text": [
      "\r",
      " 24%|███████████████████▊                                                               | 5/21 [02:18<07:19, 27.46s/it]"
     ]
    },
    {
     "name": "stdout",
     "output_type": "stream",
     "text": [
      "Populating basket with european swaption # 6\n",
      "Completed meshgrid computation in 6.4398112297058105 seconds\n"
     ]
    },
    {
     "name": "stderr",
     "output_type": "stream",
     "text": [
      "\r",
      " 29%|███████████████████████▋                                                           | 6/21 [02:45<06:49, 27.28s/it]"
     ]
    },
    {
     "name": "stdout",
     "output_type": "stream",
     "text": [
      "Populating basket with european swaption # 7\n",
      "Completed meshgrid computation in 6.099698305130005 seconds\n"
     ]
    },
    {
     "name": "stderr",
     "output_type": "stream",
     "text": [
      "\r",
      " 33%|███████████████████████████▋                                                       | 7/21 [03:11<06:17, 26.97s/it]"
     ]
    },
    {
     "name": "stdout",
     "output_type": "stream",
     "text": [
      "Populating basket with european swaption # 8\n",
      "Completed meshgrid computation in 5.798495292663574 seconds\n"
     ]
    },
    {
     "name": "stderr",
     "output_type": "stream",
     "text": [
      "\r",
      " 38%|███████████████████████████████▌                                                   | 8/21 [03:37<05:46, 26.65s/it]"
     ]
    },
    {
     "name": "stdout",
     "output_type": "stream",
     "text": [
      "Populating basket with european swaption # 9\n",
      "Completed meshgrid computation in 5.498292922973633 seconds\n"
     ]
    },
    {
     "name": "stderr",
     "output_type": "stream",
     "text": [
      "\r",
      " 43%|███████████████████████████████████▌                                               | 9/21 [04:03<05:16, 26.34s/it]"
     ]
    },
    {
     "name": "stdout",
     "output_type": "stream",
     "text": [
      "Populating basket with european swaption # 10\n",
      "Completed meshgrid computation in 5.312823057174683 seconds\n"
     ]
    },
    {
     "name": "stderr",
     "output_type": "stream",
     "text": [
      "\r",
      " 48%|███████████████████████████████████████                                           | 10/21 [04:28<04:47, 26.11s/it]"
     ]
    },
    {
     "name": "stdout",
     "output_type": "stream",
     "text": [
      "Populating basket with european swaption # 11\n",
      "Completed meshgrid computation in 5.037499904632568 seconds\n"
     ]
    },
    {
     "name": "stderr",
     "output_type": "stream",
     "text": [
      " 52%|██████████████████████████████████████████▉                                       | 11/21 [04:54<04:27, 26.76s/it]"
     ]
    },
    {
     "name": "stdout",
     "output_type": "stream",
     "text": [
      "Populating basket with european swaption # 12\n"
     ]
    },
    {
     "name": "stderr",
     "output_type": "stream",
     "text": [
      "\n"
     ]
    }
   ],
   "source": [
    "# Run #\n",
    "glob = dict()\n",
    "forward_terms = [1/12, 3/12, 6/12, 1, 2, 5, 10]\n",
    "expiry_terms = [5, 10]\n",
    "results_black = np.zeros((len(forward_terms), len(expiry_terms)))\n",
    "results_notional = np.zeros((len(forward_terms), len(expiry_terms)))\n",
    "for i in range(len(forward_terms)):\n",
    "    for j in range(len(expiry_terms)):\n",
    "        try:\n",
    "            file_path = 'bloomberg_calibration.csv'\n",
    "            tforward = forward_terms[i];\n",
    "            maturity = expiry_terms[j];\n",
    "            payment_periods = 6\n",
    "            payment_periods *= 30\n",
    "            notional = 1e8\n",
    "            tstart = 0;\n",
    "            N_MC = 8192;\n",
    "            bp1 = bermudan(file_path, tforward, maturity, notional, payment_periods, tstart, N_MC)\n",
    "            err1 = bp1.black_error\n",
    "            err2 = bp1.notional_error\n",
    "        except:\n",
    "            err1 = np.nan\n",
    "            err2 = np.nan\n",
    "        results_black[i, j] = err1\n",
    "        results_notional[i, j] = err2"
   ]
  },
  {
   "cell_type": "code",
   "execution_count": 34,
   "metadata": {},
   "outputs": [
    {
     "data": {
      "text/html": [
       "<div>\n",
       "<style scoped>\n",
       "    .dataframe tbody tr th:only-of-type {\n",
       "        vertical-align: middle;\n",
       "    }\n",
       "\n",
       "    .dataframe tbody tr th {\n",
       "        vertical-align: top;\n",
       "    }\n",
       "\n",
       "    .dataframe thead tr th {\n",
       "        text-align: left;\n",
       "    }\n",
       "</style>\n",
       "<table border=\"1\" class=\"dataframe\">\n",
       "  <thead>\n",
       "    <tr>\n",
       "      <th></th>\n",
       "      <th></th>\n",
       "      <th colspan=\"2\" halign=\"left\">Underlying Swap Tenor</th>\n",
       "    </tr>\n",
       "    <tr>\n",
       "      <th></th>\n",
       "      <th></th>\n",
       "      <th>5</th>\n",
       "      <th>10</th>\n",
       "    </tr>\n",
       "  </thead>\n",
       "  <tbody>\n",
       "    <tr>\n",
       "      <th rowspan=\"7\" valign=\"top\">Option Expiry</th>\n",
       "      <th>0.08333333333333333</th>\n",
       "      <td>9.487407</td>\n",
       "      <td>-1.654848</td>\n",
       "    </tr>\n",
       "    <tr>\n",
       "      <th>0.25</th>\n",
       "      <td>-6.307094</td>\n",
       "      <td>-2.013813</td>\n",
       "    </tr>\n",
       "    <tr>\n",
       "      <th>0.5</th>\n",
       "      <td>-15.769072</td>\n",
       "      <td>-15.697198</td>\n",
       "    </tr>\n",
       "    <tr>\n",
       "      <th>1</th>\n",
       "      <td>-14.176455</td>\n",
       "      <td>-22.532331</td>\n",
       "    </tr>\n",
       "    <tr>\n",
       "      <th>2</th>\n",
       "      <td>-11.535819</td>\n",
       "      <td>-20.824502</td>\n",
       "    </tr>\n",
       "    <tr>\n",
       "      <th>5</th>\n",
       "      <td>-6.705159</td>\n",
       "      <td>-16.300491</td>\n",
       "    </tr>\n",
       "    <tr>\n",
       "      <th>10</th>\n",
       "      <td>-1.931859</td>\n",
       "      <td>NaN</td>\n",
       "    </tr>\n",
       "  </tbody>\n",
       "</table>\n",
       "</div>"
      ],
      "text/plain": [
       "                                  Underlying Swap Tenor           \n",
       "                                                      5         10\n",
       "Option Expiry 0.08333333333333333              9.487407  -1.654848\n",
       "              0.25                            -6.307094  -2.013813\n",
       "              0.5                            -15.769072 -15.697198\n",
       "              1                              -14.176455 -22.532331\n",
       "              2                              -11.535819 -20.824502\n",
       "              5                               -6.705159 -16.300491\n",
       "              10                              -1.931859        NaN"
      ]
     },
     "metadata": {},
     "output_type": "display_data"
    },
    {
     "data": {
      "text/html": [
       "<div>\n",
       "<style scoped>\n",
       "    .dataframe tbody tr th:only-of-type {\n",
       "        vertical-align: middle;\n",
       "    }\n",
       "\n",
       "    .dataframe tbody tr th {\n",
       "        vertical-align: top;\n",
       "    }\n",
       "\n",
       "    .dataframe thead tr th {\n",
       "        text-align: left;\n",
       "    }\n",
       "</style>\n",
       "<table border=\"1\" class=\"dataframe\">\n",
       "  <thead>\n",
       "    <tr>\n",
       "      <th></th>\n",
       "      <th></th>\n",
       "      <th colspan=\"2\" halign=\"left\">Underlying Swap Tenor</th>\n",
       "    </tr>\n",
       "    <tr>\n",
       "      <th></th>\n",
       "      <th></th>\n",
       "      <th>5</th>\n",
       "      <th>10</th>\n",
       "    </tr>\n",
       "  </thead>\n",
       "  <tbody>\n",
       "    <tr>\n",
       "      <th rowspan=\"7\" valign=\"top\">Option Expiry</th>\n",
       "      <th>0.08333333333333333</th>\n",
       "      <td>0.037738</td>\n",
       "      <td>0.011734</td>\n",
       "    </tr>\n",
       "    <tr>\n",
       "      <th>0.25</th>\n",
       "      <td>0.049983</td>\n",
       "      <td>0.024380</td>\n",
       "    </tr>\n",
       "    <tr>\n",
       "      <th>0.5</th>\n",
       "      <td>0.191660</td>\n",
       "      <td>0.309045</td>\n",
       "    </tr>\n",
       "    <tr>\n",
       "      <th>1</th>\n",
       "      <td>0.238635</td>\n",
       "      <td>0.663431</td>\n",
       "    </tr>\n",
       "    <tr>\n",
       "      <th>2</th>\n",
       "      <td>0.267695</td>\n",
       "      <td>0.852451</td>\n",
       "    </tr>\n",
       "    <tr>\n",
       "      <th>5</th>\n",
       "      <td>0.212963</td>\n",
       "      <td>0.919472</td>\n",
       "    </tr>\n",
       "    <tr>\n",
       "      <th>10</th>\n",
       "      <td>0.068077</td>\n",
       "      <td>NaN</td>\n",
       "    </tr>\n",
       "  </tbody>\n",
       "</table>\n",
       "</div>"
      ],
      "text/plain": [
       "                                  Underlying Swap Tenor          \n",
       "                                                      5        10\n",
       "Option Expiry 0.08333333333333333              0.037738  0.011734\n",
       "              0.25                             0.049983  0.024380\n",
       "              0.5                              0.191660  0.309045\n",
       "              1                                0.238635  0.663431\n",
       "              2                                0.267695  0.852451\n",
       "              5                                0.212963  0.919472\n",
       "              10                               0.068077       NaN"
      ]
     },
     "metadata": {},
     "output_type": "display_data"
    }
   ],
   "source": [
    "mat = [('Underlying Swap Tenor', str(_)) for _ in expiry_terms]\n",
    "exp = [('Option Expiry', str(_)) for _ in forward_terms]\n",
    "df2 = pd.DataFrame(data=results_black, columns = pd.MultiIndex.from_tuples(mat),\n",
    "                 index=pd.MultiIndex.from_tuples(exp))\n",
    "df3 = pd.DataFrame(data=results_notional, columns = pd.MultiIndex.from_tuples(mat),\n",
    "                 index=pd.MultiIndex.from_tuples(exp))\n",
    "display(df2) # black error\n",
    "display(df3) # notional error"
   ]
  },
  {
   "cell_type": "code",
   "execution_count": null,
   "metadata": {},
   "outputs": [],
   "source": []
  }
 ],
 "metadata": {
  "colab": {
   "provenance": []
  },
  "kernelspec": {
   "display_name": "Python 3 (ipykernel)",
   "language": "python",
   "name": "python3"
  },
  "language_info": {
   "codemirror_mode": {
    "name": "ipython",
    "version": 3
   },
   "file_extension": ".py",
   "mimetype": "text/x-python",
   "name": "python",
   "nbconvert_exporter": "python",
   "pygments_lexer": "ipython3",
   "version": "3.10.11"
  }
 },
 "nbformat": 4,
 "nbformat_minor": 1
}
